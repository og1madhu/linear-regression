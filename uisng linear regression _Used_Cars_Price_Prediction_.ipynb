{
 "cells": [
  {
   "cell_type": "code",
   "execution_count": 1,
   "id": "acdcedf7",
   "metadata": {
    "ExecuteTime": {
     "end_time": "2023-11-17T06:28:51.761693Z",
     "start_time": "2023-11-17T06:28:40.536006Z"
    }
   },
   "outputs": [],
   "source": [
    "import pandas as pd\n",
    "import seaborn as sns\n",
    "\n",
    "from sklearn.linear_model import LinearRegression\n",
    "import statsmodels.api as sm\n",
    "\n",
    "from sklearn.metrics import mean_squared_error, mean_absolute_percentage_error"
   ]
  },
  {
   "cell_type": "code",
   "execution_count": 130,
   "id": "547bc49f",
   "metadata": {
    "ExecuteTime": {
     "end_time": "2023-11-17T07:42:47.861316Z",
     "start_time": "2023-11-17T07:42:47.788085Z"
    }
   },
   "outputs": [
    {
     "data": {
      "text/html": [
       "<div>\n",
       "<style scoped>\n",
       "    .dataframe tbody tr th:only-of-type {\n",
       "        vertical-align: middle;\n",
       "    }\n",
       "\n",
       "    .dataframe tbody tr th {\n",
       "        vertical-align: top;\n",
       "    }\n",
       "\n",
       "    .dataframe thead th {\n",
       "        text-align: right;\n",
       "    }\n",
       "</style>\n",
       "<table border=\"1\" class=\"dataframe\">\n",
       "  <thead>\n",
       "    <tr style=\"text-align: right;\">\n",
       "      <th></th>\n",
       "      <th>S.No.</th>\n",
       "      <th>Name</th>\n",
       "      <th>Location</th>\n",
       "      <th>Year</th>\n",
       "      <th>Kilometers_Driven</th>\n",
       "      <th>Fuel_Type</th>\n",
       "      <th>Transmission</th>\n",
       "      <th>Owner_Type</th>\n",
       "      <th>Mileage</th>\n",
       "      <th>Engine</th>\n",
       "      <th>Power</th>\n",
       "      <th>Seats</th>\n",
       "      <th>New_Price</th>\n",
       "      <th>Price</th>\n",
       "    </tr>\n",
       "  </thead>\n",
       "  <tbody>\n",
       "    <tr>\n",
       "      <th>0</th>\n",
       "      <td>0</td>\n",
       "      <td>Maruti Wagon R LXI CNG</td>\n",
       "      <td>Mumbai</td>\n",
       "      <td>2010</td>\n",
       "      <td>72000</td>\n",
       "      <td>CNG</td>\n",
       "      <td>Manual</td>\n",
       "      <td>First</td>\n",
       "      <td>26.6 km/kg</td>\n",
       "      <td>998 CC</td>\n",
       "      <td>58.16 bhp</td>\n",
       "      <td>5.0</td>\n",
       "      <td>NaN</td>\n",
       "      <td>1.75</td>\n",
       "    </tr>\n",
       "    <tr>\n",
       "      <th>1</th>\n",
       "      <td>1</td>\n",
       "      <td>Hyundai Creta 1.6 CRDi SX Option</td>\n",
       "      <td>Pune</td>\n",
       "      <td>2015</td>\n",
       "      <td>41000</td>\n",
       "      <td>Diesel</td>\n",
       "      <td>Manual</td>\n",
       "      <td>First</td>\n",
       "      <td>19.67 kmpl</td>\n",
       "      <td>1582 CC</td>\n",
       "      <td>126.2 bhp</td>\n",
       "      <td>5.0</td>\n",
       "      <td>NaN</td>\n",
       "      <td>12.50</td>\n",
       "    </tr>\n",
       "    <tr>\n",
       "      <th>2</th>\n",
       "      <td>2</td>\n",
       "      <td>Honda Jazz V</td>\n",
       "      <td>Chennai</td>\n",
       "      <td>2011</td>\n",
       "      <td>46000</td>\n",
       "      <td>Petrol</td>\n",
       "      <td>Manual</td>\n",
       "      <td>First</td>\n",
       "      <td>18.2 kmpl</td>\n",
       "      <td>1199 CC</td>\n",
       "      <td>88.7 bhp</td>\n",
       "      <td>5.0</td>\n",
       "      <td>8.61 Lakh</td>\n",
       "      <td>4.50</td>\n",
       "    </tr>\n",
       "    <tr>\n",
       "      <th>3</th>\n",
       "      <td>3</td>\n",
       "      <td>Maruti Ertiga VDI</td>\n",
       "      <td>Chennai</td>\n",
       "      <td>2012</td>\n",
       "      <td>87000</td>\n",
       "      <td>Diesel</td>\n",
       "      <td>Manual</td>\n",
       "      <td>First</td>\n",
       "      <td>20.77 kmpl</td>\n",
       "      <td>1248 CC</td>\n",
       "      <td>88.76 bhp</td>\n",
       "      <td>7.0</td>\n",
       "      <td>NaN</td>\n",
       "      <td>6.00</td>\n",
       "    </tr>\n",
       "    <tr>\n",
       "      <th>4</th>\n",
       "      <td>4</td>\n",
       "      <td>Audi A4 New 2.0 TDI Multitronic</td>\n",
       "      <td>Coimbatore</td>\n",
       "      <td>2013</td>\n",
       "      <td>40670</td>\n",
       "      <td>Diesel</td>\n",
       "      <td>Automatic</td>\n",
       "      <td>Second</td>\n",
       "      <td>15.2 kmpl</td>\n",
       "      <td>1968 CC</td>\n",
       "      <td>140.8 bhp</td>\n",
       "      <td>5.0</td>\n",
       "      <td>NaN</td>\n",
       "      <td>17.74</td>\n",
       "    </tr>\n",
       "    <tr>\n",
       "      <th>...</th>\n",
       "      <td>...</td>\n",
       "      <td>...</td>\n",
       "      <td>...</td>\n",
       "      <td>...</td>\n",
       "      <td>...</td>\n",
       "      <td>...</td>\n",
       "      <td>...</td>\n",
       "      <td>...</td>\n",
       "      <td>...</td>\n",
       "      <td>...</td>\n",
       "      <td>...</td>\n",
       "      <td>...</td>\n",
       "      <td>...</td>\n",
       "      <td>...</td>\n",
       "    </tr>\n",
       "    <tr>\n",
       "      <th>7248</th>\n",
       "      <td>7248</td>\n",
       "      <td>Volkswagen Vento Diesel Trendline</td>\n",
       "      <td>Hyderabad</td>\n",
       "      <td>2011</td>\n",
       "      <td>89411</td>\n",
       "      <td>Diesel</td>\n",
       "      <td>Manual</td>\n",
       "      <td>First</td>\n",
       "      <td>20.54 kmpl</td>\n",
       "      <td>1598 CC</td>\n",
       "      <td>103.6 bhp</td>\n",
       "      <td>5.0</td>\n",
       "      <td>NaN</td>\n",
       "      <td>NaN</td>\n",
       "    </tr>\n",
       "    <tr>\n",
       "      <th>7249</th>\n",
       "      <td>7249</td>\n",
       "      <td>Volkswagen Polo GT TSI</td>\n",
       "      <td>Mumbai</td>\n",
       "      <td>2015</td>\n",
       "      <td>59000</td>\n",
       "      <td>Petrol</td>\n",
       "      <td>Automatic</td>\n",
       "      <td>First</td>\n",
       "      <td>17.21 kmpl</td>\n",
       "      <td>1197 CC</td>\n",
       "      <td>103.6 bhp</td>\n",
       "      <td>5.0</td>\n",
       "      <td>NaN</td>\n",
       "      <td>NaN</td>\n",
       "    </tr>\n",
       "    <tr>\n",
       "      <th>7250</th>\n",
       "      <td>7250</td>\n",
       "      <td>Nissan Micra Diesel XV</td>\n",
       "      <td>Kolkata</td>\n",
       "      <td>2012</td>\n",
       "      <td>28000</td>\n",
       "      <td>Diesel</td>\n",
       "      <td>Manual</td>\n",
       "      <td>First</td>\n",
       "      <td>23.08 kmpl</td>\n",
       "      <td>1461 CC</td>\n",
       "      <td>63.1 bhp</td>\n",
       "      <td>5.0</td>\n",
       "      <td>NaN</td>\n",
       "      <td>NaN</td>\n",
       "    </tr>\n",
       "    <tr>\n",
       "      <th>7251</th>\n",
       "      <td>7251</td>\n",
       "      <td>Volkswagen Polo GT TSI</td>\n",
       "      <td>Pune</td>\n",
       "      <td>2013</td>\n",
       "      <td>52262</td>\n",
       "      <td>Petrol</td>\n",
       "      <td>Automatic</td>\n",
       "      <td>Third</td>\n",
       "      <td>17.2 kmpl</td>\n",
       "      <td>1197 CC</td>\n",
       "      <td>103.6 bhp</td>\n",
       "      <td>5.0</td>\n",
       "      <td>NaN</td>\n",
       "      <td>NaN</td>\n",
       "    </tr>\n",
       "    <tr>\n",
       "      <th>7252</th>\n",
       "      <td>7252</td>\n",
       "      <td>Mercedes-Benz E-Class 2009-2013 E 220 CDI Avan...</td>\n",
       "      <td>Kochi</td>\n",
       "      <td>2014</td>\n",
       "      <td>72443</td>\n",
       "      <td>Diesel</td>\n",
       "      <td>Automatic</td>\n",
       "      <td>First</td>\n",
       "      <td>10.0 kmpl</td>\n",
       "      <td>2148 CC</td>\n",
       "      <td>170 bhp</td>\n",
       "      <td>5.0</td>\n",
       "      <td>NaN</td>\n",
       "      <td>NaN</td>\n",
       "    </tr>\n",
       "  </tbody>\n",
       "</table>\n",
       "<p>7253 rows × 14 columns</p>\n",
       "</div>"
      ],
      "text/plain": [
       "      S.No.                                               Name    Location  Year  ...      Power Seats  New_Price  Price\n",
       "0         0                             Maruti Wagon R LXI CNG      Mumbai  2010  ...  58.16 bhp   5.0        NaN   1.75\n",
       "1         1                   Hyundai Creta 1.6 CRDi SX Option        Pune  2015  ...  126.2 bhp   5.0        NaN  12.50\n",
       "2         2                                       Honda Jazz V     Chennai  2011  ...   88.7 bhp   5.0  8.61 Lakh   4.50\n",
       "3         3                                  Maruti Ertiga VDI     Chennai  2012  ...  88.76 bhp   7.0        NaN   6.00\n",
       "4         4                    Audi A4 New 2.0 TDI Multitronic  Coimbatore  2013  ...  140.8 bhp   5.0        NaN  17.74\n",
       "...     ...                                                ...         ...   ...  ...        ...   ...        ...    ...\n",
       "7248   7248                  Volkswagen Vento Diesel Trendline   Hyderabad  2011  ...  103.6 bhp   5.0        NaN    NaN\n",
       "7249   7249                             Volkswagen Polo GT TSI      Mumbai  2015  ...  103.6 bhp   5.0        NaN    NaN\n",
       "7250   7250                             Nissan Micra Diesel XV     Kolkata  2012  ...   63.1 bhp   5.0        NaN    NaN\n",
       "7251   7251                             Volkswagen Polo GT TSI        Pune  2013  ...  103.6 bhp   5.0        NaN    NaN\n",
       "7252   7252  Mercedes-Benz E-Class 2009-2013 E 220 CDI Avan...       Kochi  2014  ...    170 bhp   5.0        NaN    NaN\n",
       "\n",
       "[7253 rows x 14 columns]"
      ]
     },
     "execution_count": 130,
     "metadata": {},
     "output_type": "execute_result"
    }
   ],
   "source": [
    "df = pd.read_csv('used_cars_data.csv')\n",
    "df"
   ]
  },
  {
   "cell_type": "code",
   "execution_count": 3,
   "id": "1c8b8a04",
   "metadata": {
    "ExecuteTime": {
     "end_time": "2023-11-17T06:29:24.845614Z",
     "start_time": "2023-11-17T06:29:24.823210Z"
    }
   },
   "outputs": [
    {
     "data": {
      "text/plain": [
       "(7253, 14)"
      ]
     },
     "execution_count": 3,
     "metadata": {},
     "output_type": "execute_result"
    }
   ],
   "source": [
    "df.shape"
   ]
  },
  {
   "cell_type": "code",
   "execution_count": 4,
   "id": "b07f4c22",
   "metadata": {
    "ExecuteTime": {
     "end_time": "2023-11-17T06:29:34.775600Z",
     "start_time": "2023-11-17T06:29:34.739921Z"
    }
   },
   "outputs": [
    {
     "name": "stdout",
     "output_type": "stream",
     "text": [
      "<class 'pandas.core.frame.DataFrame'>\n",
      "RangeIndex: 7253 entries, 0 to 7252\n",
      "Data columns (total 14 columns):\n",
      " #   Column             Non-Null Count  Dtype  \n",
      "---  ------             --------------  -----  \n",
      " 0   S.No.              7253 non-null   int64  \n",
      " 1   Name               7253 non-null   object \n",
      " 2   Location           7253 non-null   object \n",
      " 3   Year               7253 non-null   int64  \n",
      " 4   Kilometers_Driven  7253 non-null   int64  \n",
      " 5   Fuel_Type          7253 non-null   object \n",
      " 6   Transmission       7253 non-null   object \n",
      " 7   Owner_Type         7253 non-null   object \n",
      " 8   Mileage            7251 non-null   object \n",
      " 9   Engine             7207 non-null   object \n",
      " 10  Power              7207 non-null   object \n",
      " 11  Seats              7200 non-null   float64\n",
      " 12  New_Price          1006 non-null   object \n",
      " 13  Price              6019 non-null   float64\n",
      "dtypes: float64(2), int64(3), object(9)\n",
      "memory usage: 793.4+ KB\n"
     ]
    }
   ],
   "source": [
    "df.info()"
   ]
  },
  {
   "cell_type": "code",
   "execution_count": 5,
   "id": "04dc8813",
   "metadata": {
    "ExecuteTime": {
     "end_time": "2023-11-17T06:30:19.625582Z",
     "start_time": "2023-11-17T06:30:19.588407Z"
    }
   },
   "outputs": [
    {
     "data": {
      "text/html": [
       "<div>\n",
       "<style scoped>\n",
       "    .dataframe tbody tr th:only-of-type {\n",
       "        vertical-align: middle;\n",
       "    }\n",
       "\n",
       "    .dataframe tbody tr th {\n",
       "        vertical-align: top;\n",
       "    }\n",
       "\n",
       "    .dataframe thead th {\n",
       "        text-align: right;\n",
       "    }\n",
       "</style>\n",
       "<table border=\"1\" class=\"dataframe\">\n",
       "  <thead>\n",
       "    <tr style=\"text-align: right;\">\n",
       "      <th></th>\n",
       "      <th>Name</th>\n",
       "      <th>Location</th>\n",
       "      <th>Fuel_Type</th>\n",
       "      <th>Transmission</th>\n",
       "      <th>Owner_Type</th>\n",
       "      <th>Mileage</th>\n",
       "      <th>Engine</th>\n",
       "      <th>Power</th>\n",
       "      <th>New_Price</th>\n",
       "    </tr>\n",
       "  </thead>\n",
       "  <tbody>\n",
       "    <tr>\n",
       "      <th>0</th>\n",
       "      <td>Maruti Wagon R LXI CNG</td>\n",
       "      <td>Mumbai</td>\n",
       "      <td>CNG</td>\n",
       "      <td>Manual</td>\n",
       "      <td>First</td>\n",
       "      <td>26.6 km/kg</td>\n",
       "      <td>998 CC</td>\n",
       "      <td>58.16 bhp</td>\n",
       "      <td>NaN</td>\n",
       "    </tr>\n",
       "    <tr>\n",
       "      <th>1</th>\n",
       "      <td>Hyundai Creta 1.6 CRDi SX Option</td>\n",
       "      <td>Pune</td>\n",
       "      <td>Diesel</td>\n",
       "      <td>Manual</td>\n",
       "      <td>First</td>\n",
       "      <td>19.67 kmpl</td>\n",
       "      <td>1582 CC</td>\n",
       "      <td>126.2 bhp</td>\n",
       "      <td>NaN</td>\n",
       "    </tr>\n",
       "    <tr>\n",
       "      <th>2</th>\n",
       "      <td>Honda Jazz V</td>\n",
       "      <td>Chennai</td>\n",
       "      <td>Petrol</td>\n",
       "      <td>Manual</td>\n",
       "      <td>First</td>\n",
       "      <td>18.2 kmpl</td>\n",
       "      <td>1199 CC</td>\n",
       "      <td>88.7 bhp</td>\n",
       "      <td>8.61 Lakh</td>\n",
       "    </tr>\n",
       "    <tr>\n",
       "      <th>3</th>\n",
       "      <td>Maruti Ertiga VDI</td>\n",
       "      <td>Chennai</td>\n",
       "      <td>Diesel</td>\n",
       "      <td>Manual</td>\n",
       "      <td>First</td>\n",
       "      <td>20.77 kmpl</td>\n",
       "      <td>1248 CC</td>\n",
       "      <td>88.76 bhp</td>\n",
       "      <td>NaN</td>\n",
       "    </tr>\n",
       "    <tr>\n",
       "      <th>4</th>\n",
       "      <td>Audi A4 New 2.0 TDI Multitronic</td>\n",
       "      <td>Coimbatore</td>\n",
       "      <td>Diesel</td>\n",
       "      <td>Automatic</td>\n",
       "      <td>Second</td>\n",
       "      <td>15.2 kmpl</td>\n",
       "      <td>1968 CC</td>\n",
       "      <td>140.8 bhp</td>\n",
       "      <td>NaN</td>\n",
       "    </tr>\n",
       "    <tr>\n",
       "      <th>...</th>\n",
       "      <td>...</td>\n",
       "      <td>...</td>\n",
       "      <td>...</td>\n",
       "      <td>...</td>\n",
       "      <td>...</td>\n",
       "      <td>...</td>\n",
       "      <td>...</td>\n",
       "      <td>...</td>\n",
       "      <td>...</td>\n",
       "    </tr>\n",
       "    <tr>\n",
       "      <th>7248</th>\n",
       "      <td>Volkswagen Vento Diesel Trendline</td>\n",
       "      <td>Hyderabad</td>\n",
       "      <td>Diesel</td>\n",
       "      <td>Manual</td>\n",
       "      <td>First</td>\n",
       "      <td>20.54 kmpl</td>\n",
       "      <td>1598 CC</td>\n",
       "      <td>103.6 bhp</td>\n",
       "      <td>NaN</td>\n",
       "    </tr>\n",
       "    <tr>\n",
       "      <th>7249</th>\n",
       "      <td>Volkswagen Polo GT TSI</td>\n",
       "      <td>Mumbai</td>\n",
       "      <td>Petrol</td>\n",
       "      <td>Automatic</td>\n",
       "      <td>First</td>\n",
       "      <td>17.21 kmpl</td>\n",
       "      <td>1197 CC</td>\n",
       "      <td>103.6 bhp</td>\n",
       "      <td>NaN</td>\n",
       "    </tr>\n",
       "    <tr>\n",
       "      <th>7250</th>\n",
       "      <td>Nissan Micra Diesel XV</td>\n",
       "      <td>Kolkata</td>\n",
       "      <td>Diesel</td>\n",
       "      <td>Manual</td>\n",
       "      <td>First</td>\n",
       "      <td>23.08 kmpl</td>\n",
       "      <td>1461 CC</td>\n",
       "      <td>63.1 bhp</td>\n",
       "      <td>NaN</td>\n",
       "    </tr>\n",
       "    <tr>\n",
       "      <th>7251</th>\n",
       "      <td>Volkswagen Polo GT TSI</td>\n",
       "      <td>Pune</td>\n",
       "      <td>Petrol</td>\n",
       "      <td>Automatic</td>\n",
       "      <td>Third</td>\n",
       "      <td>17.2 kmpl</td>\n",
       "      <td>1197 CC</td>\n",
       "      <td>103.6 bhp</td>\n",
       "      <td>NaN</td>\n",
       "    </tr>\n",
       "    <tr>\n",
       "      <th>7252</th>\n",
       "      <td>Mercedes-Benz E-Class 2009-2013 E 220 CDI Avan...</td>\n",
       "      <td>Kochi</td>\n",
       "      <td>Diesel</td>\n",
       "      <td>Automatic</td>\n",
       "      <td>First</td>\n",
       "      <td>10.0 kmpl</td>\n",
       "      <td>2148 CC</td>\n",
       "      <td>170 bhp</td>\n",
       "      <td>NaN</td>\n",
       "    </tr>\n",
       "  </tbody>\n",
       "</table>\n",
       "<p>7253 rows × 9 columns</p>\n",
       "</div>"
      ],
      "text/plain": [
       "                                                   Name    Location Fuel_Type  ...   Engine      Power  New_Price\n",
       "0                                Maruti Wagon R LXI CNG      Mumbai       CNG  ...   998 CC  58.16 bhp        NaN\n",
       "1                      Hyundai Creta 1.6 CRDi SX Option        Pune    Diesel  ...  1582 CC  126.2 bhp        NaN\n",
       "2                                          Honda Jazz V     Chennai    Petrol  ...  1199 CC   88.7 bhp  8.61 Lakh\n",
       "3                                     Maruti Ertiga VDI     Chennai    Diesel  ...  1248 CC  88.76 bhp        NaN\n",
       "4                       Audi A4 New 2.0 TDI Multitronic  Coimbatore    Diesel  ...  1968 CC  140.8 bhp        NaN\n",
       "...                                                 ...         ...       ...  ...      ...        ...        ...\n",
       "7248                  Volkswagen Vento Diesel Trendline   Hyderabad    Diesel  ...  1598 CC  103.6 bhp        NaN\n",
       "7249                             Volkswagen Polo GT TSI      Mumbai    Petrol  ...  1197 CC  103.6 bhp        NaN\n",
       "7250                             Nissan Micra Diesel XV     Kolkata    Diesel  ...  1461 CC   63.1 bhp        NaN\n",
       "7251                             Volkswagen Polo GT TSI        Pune    Petrol  ...  1197 CC  103.6 bhp        NaN\n",
       "7252  Mercedes-Benz E-Class 2009-2013 E 220 CDI Avan...       Kochi    Diesel  ...  2148 CC    170 bhp        NaN\n",
       "\n",
       "[7253 rows x 9 columns]"
      ]
     },
     "execution_count": 5,
     "metadata": {},
     "output_type": "execute_result"
    }
   ],
   "source": [
    "df.select_dtypes(include='object')"
   ]
  },
  {
   "cell_type": "code",
   "execution_count": 6,
   "id": "209bf9ea",
   "metadata": {
    "ExecuteTime": {
     "end_time": "2023-11-17T06:32:28.822569Z",
     "start_time": "2023-11-17T06:32:28.786500Z"
    }
   },
   "outputs": [
    {
     "data": {
      "text/plain": [
       "0"
      ]
     },
     "execution_count": 6,
     "metadata": {},
     "output_type": "execute_result"
    }
   ],
   "source": [
    "df.duplicated().sum()"
   ]
  },
  {
   "cell_type": "code",
   "execution_count": 40,
   "id": "af14d5a3",
   "metadata": {
    "ExecuteTime": {
     "end_time": "2023-11-17T06:47:51.827795Z",
     "start_time": "2023-11-17T06:47:51.810166Z"
    }
   },
   "outputs": [],
   "source": [
    "df.drop(['S.No.'], axis=1, inplace=True)"
   ]
  },
  {
   "cell_type": "code",
   "execution_count": 131,
   "id": "ea29e36f",
   "metadata": {
    "ExecuteTime": {
     "end_time": "2023-11-17T07:42:55.635278Z",
     "start_time": "2023-11-17T07:42:55.610223Z"
    }
   },
   "outputs": [
    {
     "data": {
      "text/plain": [
       "0       [26.6, km/kg]\n",
       "1       [19.67, kmpl]\n",
       "2        [18.2, kmpl]\n",
       "3       [20.77, kmpl]\n",
       "4        [15.2, kmpl]\n",
       "            ...      \n",
       "7248    [20.54, kmpl]\n",
       "7249    [17.21, kmpl]\n",
       "7250    [23.08, kmpl]\n",
       "7251     [17.2, kmpl]\n",
       "7252     [10.0, kmpl]\n",
       "Name: Mileage, Length: 7253, dtype: object"
      ]
     },
     "execution_count": 131,
     "metadata": {},
     "output_type": "execute_result"
    }
   ],
   "source": [
    "df['Mileage'].str.split()"
   ]
  },
  {
   "cell_type": "code",
   "execution_count": 132,
   "id": "b89d7c7f",
   "metadata": {
    "ExecuteTime": {
     "end_time": "2023-11-17T07:43:08.506215Z",
     "start_time": "2023-11-17T07:43:08.460114Z"
    }
   },
   "outputs": [
    {
     "data": {
      "text/html": [
       "<div>\n",
       "<style scoped>\n",
       "    .dataframe tbody tr th:only-of-type {\n",
       "        vertical-align: middle;\n",
       "    }\n",
       "\n",
       "    .dataframe tbody tr th {\n",
       "        vertical-align: top;\n",
       "    }\n",
       "\n",
       "    .dataframe thead th {\n",
       "        text-align: right;\n",
       "    }\n",
       "</style>\n",
       "<table border=\"1\" class=\"dataframe\">\n",
       "  <thead>\n",
       "    <tr style=\"text-align: right;\">\n",
       "      <th></th>\n",
       "      <th>S.No.</th>\n",
       "      <th>Name</th>\n",
       "      <th>Location</th>\n",
       "      <th>Year</th>\n",
       "      <th>Kilometers_Driven</th>\n",
       "      <th>Fuel_Type</th>\n",
       "      <th>Transmission</th>\n",
       "      <th>Owner_Type</th>\n",
       "      <th>Mileage</th>\n",
       "      <th>Engine</th>\n",
       "      <th>Power</th>\n",
       "      <th>Seats</th>\n",
       "      <th>New_Price</th>\n",
       "      <th>Price</th>\n",
       "      <th>Mtr</th>\n",
       "    </tr>\n",
       "  </thead>\n",
       "  <tbody>\n",
       "    <tr>\n",
       "      <th>0</th>\n",
       "      <td>0</td>\n",
       "      <td>Maruti Wagon R LXI CNG</td>\n",
       "      <td>Mumbai</td>\n",
       "      <td>2010</td>\n",
       "      <td>72000</td>\n",
       "      <td>CNG</td>\n",
       "      <td>Manual</td>\n",
       "      <td>First</td>\n",
       "      <td>26.6</td>\n",
       "      <td>998 CC</td>\n",
       "      <td>58.16 bhp</td>\n",
       "      <td>5.0</td>\n",
       "      <td>NaN</td>\n",
       "      <td>1.75</td>\n",
       "      <td>km/kg</td>\n",
       "    </tr>\n",
       "    <tr>\n",
       "      <th>1</th>\n",
       "      <td>1</td>\n",
       "      <td>Hyundai Creta 1.6 CRDi SX Option</td>\n",
       "      <td>Pune</td>\n",
       "      <td>2015</td>\n",
       "      <td>41000</td>\n",
       "      <td>Diesel</td>\n",
       "      <td>Manual</td>\n",
       "      <td>First</td>\n",
       "      <td>19.67</td>\n",
       "      <td>1582 CC</td>\n",
       "      <td>126.2 bhp</td>\n",
       "      <td>5.0</td>\n",
       "      <td>NaN</td>\n",
       "      <td>12.50</td>\n",
       "      <td>kmpl</td>\n",
       "    </tr>\n",
       "    <tr>\n",
       "      <th>2</th>\n",
       "      <td>2</td>\n",
       "      <td>Honda Jazz V</td>\n",
       "      <td>Chennai</td>\n",
       "      <td>2011</td>\n",
       "      <td>46000</td>\n",
       "      <td>Petrol</td>\n",
       "      <td>Manual</td>\n",
       "      <td>First</td>\n",
       "      <td>18.2</td>\n",
       "      <td>1199 CC</td>\n",
       "      <td>88.7 bhp</td>\n",
       "      <td>5.0</td>\n",
       "      <td>8.61 Lakh</td>\n",
       "      <td>4.50</td>\n",
       "      <td>kmpl</td>\n",
       "    </tr>\n",
       "    <tr>\n",
       "      <th>3</th>\n",
       "      <td>3</td>\n",
       "      <td>Maruti Ertiga VDI</td>\n",
       "      <td>Chennai</td>\n",
       "      <td>2012</td>\n",
       "      <td>87000</td>\n",
       "      <td>Diesel</td>\n",
       "      <td>Manual</td>\n",
       "      <td>First</td>\n",
       "      <td>20.77</td>\n",
       "      <td>1248 CC</td>\n",
       "      <td>88.76 bhp</td>\n",
       "      <td>7.0</td>\n",
       "      <td>NaN</td>\n",
       "      <td>6.00</td>\n",
       "      <td>kmpl</td>\n",
       "    </tr>\n",
       "    <tr>\n",
       "      <th>4</th>\n",
       "      <td>4</td>\n",
       "      <td>Audi A4 New 2.0 TDI Multitronic</td>\n",
       "      <td>Coimbatore</td>\n",
       "      <td>2013</td>\n",
       "      <td>40670</td>\n",
       "      <td>Diesel</td>\n",
       "      <td>Automatic</td>\n",
       "      <td>Second</td>\n",
       "      <td>15.2</td>\n",
       "      <td>1968 CC</td>\n",
       "      <td>140.8 bhp</td>\n",
       "      <td>5.0</td>\n",
       "      <td>NaN</td>\n",
       "      <td>17.74</td>\n",
       "      <td>kmpl</td>\n",
       "    </tr>\n",
       "  </tbody>\n",
       "</table>\n",
       "</div>"
      ],
      "text/plain": [
       "   S.No.                              Name    Location  Year  ...  Seats  New_Price  Price    Mtr\n",
       "0      0            Maruti Wagon R LXI CNG      Mumbai  2010  ...    5.0        NaN   1.75  km/kg\n",
       "1      1  Hyundai Creta 1.6 CRDi SX Option        Pune  2015  ...    5.0        NaN  12.50   kmpl\n",
       "2      2                      Honda Jazz V     Chennai  2011  ...    5.0  8.61 Lakh   4.50   kmpl\n",
       "3      3                 Maruti Ertiga VDI     Chennai  2012  ...    7.0        NaN   6.00   kmpl\n",
       "4      4   Audi A4 New 2.0 TDI Multitronic  Coimbatore  2013  ...    5.0        NaN  17.74   kmpl\n",
       "\n",
       "[5 rows x 15 columns]"
      ]
     },
     "execution_count": 132,
     "metadata": {},
     "output_type": "execute_result"
    }
   ],
   "source": [
    "df[['Mileage','Mtr']] = df['Mileage'].str.split(\" \", n=1, expand=True)\n",
    "df.head()"
   ]
  },
  {
   "cell_type": "code",
   "execution_count": 41,
   "id": "89e4838f",
   "metadata": {
    "ExecuteTime": {
     "end_time": "2023-11-17T06:47:54.586495Z",
     "start_time": "2023-11-17T06:47:54.444051Z"
    }
   },
   "outputs": [
    {
     "data": {
      "text/html": [
       "<div>\n",
       "<style scoped>\n",
       "    .dataframe tbody tr th:only-of-type {\n",
       "        vertical-align: middle;\n",
       "    }\n",
       "\n",
       "    .dataframe tbody tr th {\n",
       "        vertical-align: top;\n",
       "    }\n",
       "\n",
       "    .dataframe thead th {\n",
       "        text-align: right;\n",
       "    }\n",
       "</style>\n",
       "<table border=\"1\" class=\"dataframe\">\n",
       "  <thead>\n",
       "    <tr style=\"text-align: right;\">\n",
       "      <th></th>\n",
       "      <th>Name</th>\n",
       "      <th>Location</th>\n",
       "      <th>Year</th>\n",
       "      <th>Kilometers_Driven</th>\n",
       "      <th>Fuel_Type</th>\n",
       "      <th>Transmission</th>\n",
       "      <th>Owner_Type</th>\n",
       "      <th>Mileage</th>\n",
       "      <th>Engine</th>\n",
       "      <th>Power</th>\n",
       "      <th>Seats</th>\n",
       "      <th>New_Price</th>\n",
       "      <th>Price</th>\n",
       "    </tr>\n",
       "  </thead>\n",
       "  <tbody>\n",
       "    <tr>\n",
       "      <th>0</th>\n",
       "      <td>Maruti Wagon R LXI CNG</td>\n",
       "      <td>Mumbai</td>\n",
       "      <td>2010</td>\n",
       "      <td>72000</td>\n",
       "      <td>CNG</td>\n",
       "      <td>Manual</td>\n",
       "      <td>First</td>\n",
       "      <td>26.6</td>\n",
       "      <td>998 CC</td>\n",
       "      <td>58.16 bhp</td>\n",
       "      <td>5.0</td>\n",
       "      <td>NaN</td>\n",
       "      <td>1.75</td>\n",
       "    </tr>\n",
       "    <tr>\n",
       "      <th>1</th>\n",
       "      <td>Hyundai Creta 1.6 CRDi SX Option</td>\n",
       "      <td>Pune</td>\n",
       "      <td>2015</td>\n",
       "      <td>41000</td>\n",
       "      <td>Diesel</td>\n",
       "      <td>Manual</td>\n",
       "      <td>First</td>\n",
       "      <td>19.67</td>\n",
       "      <td>1582 CC</td>\n",
       "      <td>126.2 bhp</td>\n",
       "      <td>5.0</td>\n",
       "      <td>NaN</td>\n",
       "      <td>12.50</td>\n",
       "    </tr>\n",
       "    <tr>\n",
       "      <th>2</th>\n",
       "      <td>Honda Jazz V</td>\n",
       "      <td>Chennai</td>\n",
       "      <td>2011</td>\n",
       "      <td>46000</td>\n",
       "      <td>Petrol</td>\n",
       "      <td>Manual</td>\n",
       "      <td>First</td>\n",
       "      <td>18.2</td>\n",
       "      <td>1199 CC</td>\n",
       "      <td>88.7 bhp</td>\n",
       "      <td>5.0</td>\n",
       "      <td>8.61 Lakh</td>\n",
       "      <td>4.50</td>\n",
       "    </tr>\n",
       "    <tr>\n",
       "      <th>3</th>\n",
       "      <td>Maruti Ertiga VDI</td>\n",
       "      <td>Chennai</td>\n",
       "      <td>2012</td>\n",
       "      <td>87000</td>\n",
       "      <td>Diesel</td>\n",
       "      <td>Manual</td>\n",
       "      <td>First</td>\n",
       "      <td>20.77</td>\n",
       "      <td>1248 CC</td>\n",
       "      <td>88.76 bhp</td>\n",
       "      <td>7.0</td>\n",
       "      <td>NaN</td>\n",
       "      <td>6.00</td>\n",
       "    </tr>\n",
       "    <tr>\n",
       "      <th>4</th>\n",
       "      <td>Audi A4 New 2.0 TDI Multitronic</td>\n",
       "      <td>Coimbatore</td>\n",
       "      <td>2013</td>\n",
       "      <td>40670</td>\n",
       "      <td>Diesel</td>\n",
       "      <td>Automatic</td>\n",
       "      <td>Second</td>\n",
       "      <td>15.2</td>\n",
       "      <td>1968 CC</td>\n",
       "      <td>140.8 bhp</td>\n",
       "      <td>5.0</td>\n",
       "      <td>NaN</td>\n",
       "      <td>17.74</td>\n",
       "    </tr>\n",
       "    <tr>\n",
       "      <th>...</th>\n",
       "      <td>...</td>\n",
       "      <td>...</td>\n",
       "      <td>...</td>\n",
       "      <td>...</td>\n",
       "      <td>...</td>\n",
       "      <td>...</td>\n",
       "      <td>...</td>\n",
       "      <td>...</td>\n",
       "      <td>...</td>\n",
       "      <td>...</td>\n",
       "      <td>...</td>\n",
       "      <td>...</td>\n",
       "      <td>...</td>\n",
       "    </tr>\n",
       "    <tr>\n",
       "      <th>7248</th>\n",
       "      <td>Volkswagen Vento Diesel Trendline</td>\n",
       "      <td>Hyderabad</td>\n",
       "      <td>2011</td>\n",
       "      <td>89411</td>\n",
       "      <td>Diesel</td>\n",
       "      <td>Manual</td>\n",
       "      <td>First</td>\n",
       "      <td>20.54</td>\n",
       "      <td>1598 CC</td>\n",
       "      <td>103.6 bhp</td>\n",
       "      <td>5.0</td>\n",
       "      <td>NaN</td>\n",
       "      <td>NaN</td>\n",
       "    </tr>\n",
       "    <tr>\n",
       "      <th>7249</th>\n",
       "      <td>Volkswagen Polo GT TSI</td>\n",
       "      <td>Mumbai</td>\n",
       "      <td>2015</td>\n",
       "      <td>59000</td>\n",
       "      <td>Petrol</td>\n",
       "      <td>Automatic</td>\n",
       "      <td>First</td>\n",
       "      <td>17.21</td>\n",
       "      <td>1197 CC</td>\n",
       "      <td>103.6 bhp</td>\n",
       "      <td>5.0</td>\n",
       "      <td>NaN</td>\n",
       "      <td>NaN</td>\n",
       "    </tr>\n",
       "    <tr>\n",
       "      <th>7250</th>\n",
       "      <td>Nissan Micra Diesel XV</td>\n",
       "      <td>Kolkata</td>\n",
       "      <td>2012</td>\n",
       "      <td>28000</td>\n",
       "      <td>Diesel</td>\n",
       "      <td>Manual</td>\n",
       "      <td>First</td>\n",
       "      <td>23.08</td>\n",
       "      <td>1461 CC</td>\n",
       "      <td>63.1 bhp</td>\n",
       "      <td>5.0</td>\n",
       "      <td>NaN</td>\n",
       "      <td>NaN</td>\n",
       "    </tr>\n",
       "    <tr>\n",
       "      <th>7251</th>\n",
       "      <td>Volkswagen Polo GT TSI</td>\n",
       "      <td>Pune</td>\n",
       "      <td>2013</td>\n",
       "      <td>52262</td>\n",
       "      <td>Petrol</td>\n",
       "      <td>Automatic</td>\n",
       "      <td>Third</td>\n",
       "      <td>17.2</td>\n",
       "      <td>1197 CC</td>\n",
       "      <td>103.6 bhp</td>\n",
       "      <td>5.0</td>\n",
       "      <td>NaN</td>\n",
       "      <td>NaN</td>\n",
       "    </tr>\n",
       "    <tr>\n",
       "      <th>7252</th>\n",
       "      <td>Mercedes-Benz E-Class 2009-2013 E 220 CDI Avan...</td>\n",
       "      <td>Kochi</td>\n",
       "      <td>2014</td>\n",
       "      <td>72443</td>\n",
       "      <td>Diesel</td>\n",
       "      <td>Automatic</td>\n",
       "      <td>First</td>\n",
       "      <td>10.0</td>\n",
       "      <td>2148 CC</td>\n",
       "      <td>170 bhp</td>\n",
       "      <td>5.0</td>\n",
       "      <td>NaN</td>\n",
       "      <td>NaN</td>\n",
       "    </tr>\n",
       "  </tbody>\n",
       "</table>\n",
       "<p>7253 rows × 13 columns</p>\n",
       "</div>"
      ],
      "text/plain": [
       "                                                   Name    Location  Year  ...  Seats  New_Price  Price\n",
       "0                                Maruti Wagon R LXI CNG      Mumbai  2010  ...    5.0        NaN   1.75\n",
       "1                      Hyundai Creta 1.6 CRDi SX Option        Pune  2015  ...    5.0        NaN  12.50\n",
       "2                                          Honda Jazz V     Chennai  2011  ...    5.0  8.61 Lakh   4.50\n",
       "3                                     Maruti Ertiga VDI     Chennai  2012  ...    7.0        NaN   6.00\n",
       "4                       Audi A4 New 2.0 TDI Multitronic  Coimbatore  2013  ...    5.0        NaN  17.74\n",
       "...                                                 ...         ...   ...  ...    ...        ...    ...\n",
       "7248                  Volkswagen Vento Diesel Trendline   Hyderabad  2011  ...    5.0        NaN    NaN\n",
       "7249                             Volkswagen Polo GT TSI      Mumbai  2015  ...    5.0        NaN    NaN\n",
       "7250                             Nissan Micra Diesel XV     Kolkata  2012  ...    5.0        NaN    NaN\n",
       "7251                             Volkswagen Polo GT TSI        Pune  2013  ...    5.0        NaN    NaN\n",
       "7252  Mercedes-Benz E-Class 2009-2013 E 220 CDI Avan...       Kochi  2014  ...    5.0        NaN    NaN\n",
       "\n",
       "[7253 rows x 13 columns]"
      ]
     },
     "execution_count": 41,
     "metadata": {},
     "output_type": "execute_result"
    }
   ],
   "source": [
    "df['Mileage'] = df['Mileage'].str.replace('kmpl', '').str.replace('km/kg', '').str.replace(' ', '')\n",
    "df"
   ]
  },
  {
   "cell_type": "code",
   "execution_count": 42,
   "id": "3dffee4b",
   "metadata": {
    "ExecuteTime": {
     "end_time": "2023-11-17T06:47:58.376200Z",
     "start_time": "2023-11-17T06:47:58.358591Z"
    }
   },
   "outputs": [],
   "source": [
    "df['Mileage'] = df['Mileage'].astype(float)"
   ]
  },
  {
   "cell_type": "code",
   "execution_count": 44,
   "id": "e7f73b3e",
   "metadata": {
    "ExecuteTime": {
     "end_time": "2023-11-17T06:48:34.893332Z",
     "start_time": "2023-11-17T06:48:34.793799Z"
    }
   },
   "outputs": [
    {
     "data": {
      "text/html": [
       "<div>\n",
       "<style scoped>\n",
       "    .dataframe tbody tr th:only-of-type {\n",
       "        vertical-align: middle;\n",
       "    }\n",
       "\n",
       "    .dataframe tbody tr th {\n",
       "        vertical-align: top;\n",
       "    }\n",
       "\n",
       "    .dataframe thead th {\n",
       "        text-align: right;\n",
       "    }\n",
       "</style>\n",
       "<table border=\"1\" class=\"dataframe\">\n",
       "  <thead>\n",
       "    <tr style=\"text-align: right;\">\n",
       "      <th></th>\n",
       "      <th>Name</th>\n",
       "      <th>Location</th>\n",
       "      <th>Year</th>\n",
       "      <th>Kilometers_Driven</th>\n",
       "      <th>Fuel_Type</th>\n",
       "      <th>Transmission</th>\n",
       "      <th>Owner_Type</th>\n",
       "      <th>Mileage</th>\n",
       "      <th>Engine</th>\n",
       "      <th>Power</th>\n",
       "      <th>Seats</th>\n",
       "      <th>New_Price</th>\n",
       "      <th>Price</th>\n",
       "    </tr>\n",
       "  </thead>\n",
       "  <tbody>\n",
       "    <tr>\n",
       "      <th>0</th>\n",
       "      <td>Maruti Wagon R LXI CNG</td>\n",
       "      <td>Mumbai</td>\n",
       "      <td>2010</td>\n",
       "      <td>72000</td>\n",
       "      <td>CNG</td>\n",
       "      <td>Manual</td>\n",
       "      <td>First</td>\n",
       "      <td>26.60</td>\n",
       "      <td>998</td>\n",
       "      <td>58.16</td>\n",
       "      <td>5.0</td>\n",
       "      <td>NaN</td>\n",
       "      <td>1.75</td>\n",
       "    </tr>\n",
       "    <tr>\n",
       "      <th>1</th>\n",
       "      <td>Hyundai Creta 1.6 CRDi SX Option</td>\n",
       "      <td>Pune</td>\n",
       "      <td>2015</td>\n",
       "      <td>41000</td>\n",
       "      <td>Diesel</td>\n",
       "      <td>Manual</td>\n",
       "      <td>First</td>\n",
       "      <td>19.67</td>\n",
       "      <td>1582</td>\n",
       "      <td>126.2</td>\n",
       "      <td>5.0</td>\n",
       "      <td>NaN</td>\n",
       "      <td>12.50</td>\n",
       "    </tr>\n",
       "    <tr>\n",
       "      <th>2</th>\n",
       "      <td>Honda Jazz V</td>\n",
       "      <td>Chennai</td>\n",
       "      <td>2011</td>\n",
       "      <td>46000</td>\n",
       "      <td>Petrol</td>\n",
       "      <td>Manual</td>\n",
       "      <td>First</td>\n",
       "      <td>18.20</td>\n",
       "      <td>1199</td>\n",
       "      <td>88.7</td>\n",
       "      <td>5.0</td>\n",
       "      <td>8.61 Lakh</td>\n",
       "      <td>4.50</td>\n",
       "    </tr>\n",
       "    <tr>\n",
       "      <th>3</th>\n",
       "      <td>Maruti Ertiga VDI</td>\n",
       "      <td>Chennai</td>\n",
       "      <td>2012</td>\n",
       "      <td>87000</td>\n",
       "      <td>Diesel</td>\n",
       "      <td>Manual</td>\n",
       "      <td>First</td>\n",
       "      <td>20.77</td>\n",
       "      <td>1248</td>\n",
       "      <td>88.76</td>\n",
       "      <td>7.0</td>\n",
       "      <td>NaN</td>\n",
       "      <td>6.00</td>\n",
       "    </tr>\n",
       "    <tr>\n",
       "      <th>4</th>\n",
       "      <td>Audi A4 New 2.0 TDI Multitronic</td>\n",
       "      <td>Coimbatore</td>\n",
       "      <td>2013</td>\n",
       "      <td>40670</td>\n",
       "      <td>Diesel</td>\n",
       "      <td>Automatic</td>\n",
       "      <td>Second</td>\n",
       "      <td>15.20</td>\n",
       "      <td>1968</td>\n",
       "      <td>140.8</td>\n",
       "      <td>5.0</td>\n",
       "      <td>NaN</td>\n",
       "      <td>17.74</td>\n",
       "    </tr>\n",
       "    <tr>\n",
       "      <th>...</th>\n",
       "      <td>...</td>\n",
       "      <td>...</td>\n",
       "      <td>...</td>\n",
       "      <td>...</td>\n",
       "      <td>...</td>\n",
       "      <td>...</td>\n",
       "      <td>...</td>\n",
       "      <td>...</td>\n",
       "      <td>...</td>\n",
       "      <td>...</td>\n",
       "      <td>...</td>\n",
       "      <td>...</td>\n",
       "      <td>...</td>\n",
       "    </tr>\n",
       "    <tr>\n",
       "      <th>7248</th>\n",
       "      <td>Volkswagen Vento Diesel Trendline</td>\n",
       "      <td>Hyderabad</td>\n",
       "      <td>2011</td>\n",
       "      <td>89411</td>\n",
       "      <td>Diesel</td>\n",
       "      <td>Manual</td>\n",
       "      <td>First</td>\n",
       "      <td>20.54</td>\n",
       "      <td>1598</td>\n",
       "      <td>103.6</td>\n",
       "      <td>5.0</td>\n",
       "      <td>NaN</td>\n",
       "      <td>NaN</td>\n",
       "    </tr>\n",
       "    <tr>\n",
       "      <th>7249</th>\n",
       "      <td>Volkswagen Polo GT TSI</td>\n",
       "      <td>Mumbai</td>\n",
       "      <td>2015</td>\n",
       "      <td>59000</td>\n",
       "      <td>Petrol</td>\n",
       "      <td>Automatic</td>\n",
       "      <td>First</td>\n",
       "      <td>17.21</td>\n",
       "      <td>1197</td>\n",
       "      <td>103.6</td>\n",
       "      <td>5.0</td>\n",
       "      <td>NaN</td>\n",
       "      <td>NaN</td>\n",
       "    </tr>\n",
       "    <tr>\n",
       "      <th>7250</th>\n",
       "      <td>Nissan Micra Diesel XV</td>\n",
       "      <td>Kolkata</td>\n",
       "      <td>2012</td>\n",
       "      <td>28000</td>\n",
       "      <td>Diesel</td>\n",
       "      <td>Manual</td>\n",
       "      <td>First</td>\n",
       "      <td>23.08</td>\n",
       "      <td>1461</td>\n",
       "      <td>63.1</td>\n",
       "      <td>5.0</td>\n",
       "      <td>NaN</td>\n",
       "      <td>NaN</td>\n",
       "    </tr>\n",
       "    <tr>\n",
       "      <th>7251</th>\n",
       "      <td>Volkswagen Polo GT TSI</td>\n",
       "      <td>Pune</td>\n",
       "      <td>2013</td>\n",
       "      <td>52262</td>\n",
       "      <td>Petrol</td>\n",
       "      <td>Automatic</td>\n",
       "      <td>Third</td>\n",
       "      <td>17.20</td>\n",
       "      <td>1197</td>\n",
       "      <td>103.6</td>\n",
       "      <td>5.0</td>\n",
       "      <td>NaN</td>\n",
       "      <td>NaN</td>\n",
       "    </tr>\n",
       "    <tr>\n",
       "      <th>7252</th>\n",
       "      <td>Mercedes-Benz E-Class 2009-2013 E 220 CDI Avan...</td>\n",
       "      <td>Kochi</td>\n",
       "      <td>2014</td>\n",
       "      <td>72443</td>\n",
       "      <td>Diesel</td>\n",
       "      <td>Automatic</td>\n",
       "      <td>First</td>\n",
       "      <td>10.00</td>\n",
       "      <td>2148</td>\n",
       "      <td>170</td>\n",
       "      <td>5.0</td>\n",
       "      <td>NaN</td>\n",
       "      <td>NaN</td>\n",
       "    </tr>\n",
       "  </tbody>\n",
       "</table>\n",
       "<p>7253 rows × 13 columns</p>\n",
       "</div>"
      ],
      "text/plain": [
       "                                                   Name    Location  Year  ...  Seats  New_Price  Price\n",
       "0                                Maruti Wagon R LXI CNG      Mumbai  2010  ...    5.0        NaN   1.75\n",
       "1                      Hyundai Creta 1.6 CRDi SX Option        Pune  2015  ...    5.0        NaN  12.50\n",
       "2                                          Honda Jazz V     Chennai  2011  ...    5.0  8.61 Lakh   4.50\n",
       "3                                     Maruti Ertiga VDI     Chennai  2012  ...    7.0        NaN   6.00\n",
       "4                       Audi A4 New 2.0 TDI Multitronic  Coimbatore  2013  ...    5.0        NaN  17.74\n",
       "...                                                 ...         ...   ...  ...    ...        ...    ...\n",
       "7248                  Volkswagen Vento Diesel Trendline   Hyderabad  2011  ...    5.0        NaN    NaN\n",
       "7249                             Volkswagen Polo GT TSI      Mumbai  2015  ...    5.0        NaN    NaN\n",
       "7250                             Nissan Micra Diesel XV     Kolkata  2012  ...    5.0        NaN    NaN\n",
       "7251                             Volkswagen Polo GT TSI        Pune  2013  ...    5.0        NaN    NaN\n",
       "7252  Mercedes-Benz E-Class 2009-2013 E 220 CDI Avan...       Kochi  2014  ...    5.0        NaN    NaN\n",
       "\n",
       "[7253 rows x 13 columns]"
      ]
     },
     "execution_count": 44,
     "metadata": {},
     "output_type": "execute_result"
    }
   ],
   "source": [
    "df['Engine'] = df['Engine'].str.replace('CC', '').str.replace(' ', '')\n",
    "df['Power'] = df['Power'].str.replace('bhp', '').str.replace(' ', '')\n",
    "df"
   ]
  },
  {
   "cell_type": "code",
   "execution_count": 55,
   "id": "2fdd03fe",
   "metadata": {
    "ExecuteTime": {
     "end_time": "2023-11-17T06:52:26.537777Z",
     "start_time": "2023-11-17T06:52:26.473570Z"
    }
   },
   "outputs": [
    {
     "name": "stdout",
     "output_type": "stream",
     "text": [
      "<class 'pandas.core.frame.DataFrame'>\n",
      "RangeIndex: 7253 entries, 0 to 7252\n",
      "Data columns (total 13 columns):\n",
      " #   Column             Non-Null Count  Dtype  \n",
      "---  ------             --------------  -----  \n",
      " 0   Name               7253 non-null   object \n",
      " 1   Location           7253 non-null   object \n",
      " 2   Year               7253 non-null   int64  \n",
      " 3   Kilometers_Driven  7253 non-null   int64  \n",
      " 4   Fuel_Type          7253 non-null   object \n",
      " 5   Transmission       7253 non-null   object \n",
      " 6   Owner_Type         7253 non-null   object \n",
      " 7   Mileage            7251 non-null   float64\n",
      " 8   Engine             7207 non-null   float64\n",
      " 9   Power              7078 non-null   float64\n",
      " 10  Seats              7200 non-null   float64\n",
      " 11  New_Price          1006 non-null   object \n",
      " 12  Price              6019 non-null   float64\n",
      "dtypes: float64(5), int64(2), object(6)\n",
      "memory usage: 736.8+ KB\n"
     ]
    }
   ],
   "source": [
    "df['Engine'] = df['Engine'].astype(float)\n",
    "df['Power'] = df['Power'].astype(float)\n",
    "df.info()"
   ]
  },
  {
   "cell_type": "code",
   "execution_count": 52,
   "id": "acd72255",
   "metadata": {
    "ExecuteTime": {
     "end_time": "2023-11-17T06:51:54.688635Z",
     "start_time": "2023-11-17T06:51:54.671526Z"
    }
   },
   "outputs": [],
   "source": [
    "df['Power'] = np.where(df['Power'] == 'null', np.nan, df['Power'])"
   ]
  },
  {
   "cell_type": "code",
   "execution_count": 54,
   "id": "00749d07",
   "metadata": {
    "ExecuteTime": {
     "end_time": "2023-11-17T06:52:17.172847Z",
     "start_time": "2023-11-17T06:52:17.157781Z"
    }
   },
   "outputs": [
    {
     "data": {
      "text/plain": [
       "array(['58.16', '126.2', '88.7', '88.76', '140.8', '55.2', '63.1',\n",
       "       '171.5', '103.6', '74', '103.25', '116.3', '187.7', '115',\n",
       "       '175.56', '98.6', '83.8', '167.62', '190', '88.5', '177.01', '80',\n",
       "       '67.1', '102', '108.45', '138.1', '184', '179.5', '103.5', '64',\n",
       "       '82', '254.8', '73.9', '46.3', '37.5', '77', '82.9', '149.92',\n",
       "       '138.03', '112.2', '163.7', '71', '105', '174.33', '75', '103.2',\n",
       "       '53.3', '78.9', '147.6', '147.8', '68', '186', '170', '69', '140',\n",
       "       '78', '194', '500', '108.5', '86.8', '187.74', nan, '132', '86.7',\n",
       "       '73.94', '117.3', '218', '168.5', '89.84', '110', '90', '82.85',\n",
       "       '67', '241.4', '35', '270.9', '126.32', '73', '130', '100.6',\n",
       "       '150', '75.94', '215', '107.3', '37.48', '120', '178', '152',\n",
       "       '91.1', '85.80', '362.07', '121.3', '143', '81.80', '171', '76.8',\n",
       "       '103.52', '444', '362.9', '67.06', '120.7', '258', '81.86', '112',\n",
       "       '88.73', '57.6', '157.75', '102.5', '201.1', '83.1', '68.05',\n",
       "       '88.50', '106', '100', '81.83', '85', '64.1', '177.5', '246.7',\n",
       "       '177.46', '65', '67.04', '189.08', '99', '53.5', '194.3', '70',\n",
       "       '183', '254.79', '66.1', '76', '60', '123.24', '47.3', '118',\n",
       "       '88.8', '177', '136', '201.15', '93.7', '177.6', '313', '245',\n",
       "       '125', '141', '227', '62', '141.1', '83.14', '192', '67.05', '47',\n",
       "       '235', '37', '87.2', '203', '204', '246.74', '122', '282', '181',\n",
       "       '224', '94', '367', '98.79', '62.1', '174.3', '114', '335.2',\n",
       "       '169', '191.34', '108.49', '138.02', '156', '187.4', '66', '103.3',\n",
       "       '164.7', '79.4', '198.5', '154', '73.8', '181.43', '85.8', '207.8',\n",
       "       '108.4', '88', '63', '82.5', '364.9', '107.2', '113.98', '126.3',\n",
       "       '185', '237.4', '99.6', '66.7', '160', '306', '98.59', '92.7',\n",
       "       '147.51', '197.2', '167.6', '165', '110.4', '73.97', '147.9',\n",
       "       '116.6', '148', '34.2', '155', '197', '108.62', '118.3', '38.4',\n",
       "       '241.38', '153.86', '163.5', '226.6', '84.8', '53.64', '158.2',\n",
       "       '69.01', '181.03', '58.2', '104.68', '126.24', '73.75', '158',\n",
       "       '130.2', '57.5', '97.7', '121.4', '98.96', '174.5', '308',\n",
       "       '121.36', '138', '265', '84', '321', '91.72', '65.3', '88.2', '93',\n",
       "       '35.5', '86.79', '157.7', '40.3', '91.7', '180', '114.4', '158.8',\n",
       "       '157.8', '123.7', '56.3', '189', '104', '210', '270.88', '142',\n",
       "       '255', '236', '167.7', '148.31', '80.46', '138.08', '250', '74.9',\n",
       "       '91.2', '102.57', '97.6', '102.53', '240', '254', '112.4', '73.74',\n",
       "       '108.495', '116.9', '101', '320', '70.02', '261.49', '105.5',\n",
       "       '550', '168.7', '55.23', '94.68', '152.88', '163.2', '203.2',\n",
       "       '241', '95', '200', '271.23', '63.12', '85.7', '308.43', '118.6',\n",
       "       '199.3', '83.83', '55', '83', '300', '201', '262.6', '163',\n",
       "       '58.33', '86.76', '76.9', '174.57', '301.73', '68.1', '162',\n",
       "       '394.3', '80.9', '147.5', '272', '340', '120.33', '82.4', '231.1',\n",
       "       '335.3', '333', '198.25', '224.34', '402', '261', '61', '144',\n",
       "       '71.01', '271.72', '134', '135.1', '92', '64.08', '261.5',\n",
       "       '123.37', '175.67', '53', '110.5', '178.4', '193.1', '41', '395',\n",
       "       '48.21', '450', '421', '89.75', '387.3', '130.3', '281.61', '52.8',\n",
       "       '139.01', '208', '503', '168', '98.82', '139.07', '83.11', '74.93',\n",
       "       '382', '74.96', '552', '127', '560', '116.4', '161.6', '488.1',\n",
       "       '103', '181.04', '138.13', '78.8', '616', '170.30', '182.46',\n",
       "       '245.41', '161', '120.69', '252', '147.4', '328.5', '98.63', '360',\n",
       "       '241.6'], dtype=object)"
      ]
     },
     "execution_count": 54,
     "metadata": {},
     "output_type": "execute_result"
    }
   ],
   "source": [
    "df['Power'].unique()"
   ]
  },
  {
   "cell_type": "code",
   "execution_count": 60,
   "id": "5b2d6155",
   "metadata": {
    "ExecuteTime": {
     "end_time": "2023-11-17T06:54:21.041952Z",
     "start_time": "2023-11-17T06:54:21.007939Z"
    }
   },
   "outputs": [
    {
     "data": {
      "text/plain": [
       "Name                 0.000000\n",
       "Location             0.000000\n",
       "Year                 0.000000\n",
       "Kilometers_Driven    0.000000\n",
       "Fuel_Type            0.000000\n",
       "Transmission         0.000000\n",
       "Owner_Type           0.000000\n",
       "Mileage              0.000332\n",
       "Engine               0.005981\n",
       "Power                0.023758\n",
       "Seats                0.006978\n",
       "Price                0.000000\n",
       "dtype: float64"
      ]
     },
     "execution_count": 60,
     "metadata": {},
     "output_type": "execute_result"
    }
   ],
   "source": [
    "df.isnull().sum() / len(df)"
   ]
  },
  {
   "cell_type": "code",
   "execution_count": 58,
   "id": "ed418a46",
   "metadata": {
    "ExecuteTime": {
     "end_time": "2023-11-17T06:53:34.443195Z",
     "start_time": "2023-11-17T06:53:34.419378Z"
    }
   },
   "outputs": [],
   "source": [
    "df.drop('New_Price', axis=1, inplace=True)"
   ]
  },
  {
   "cell_type": "code",
   "execution_count": 59,
   "id": "4786cc58",
   "metadata": {
    "ExecuteTime": {
     "end_time": "2023-11-17T06:54:17.050881Z",
     "start_time": "2023-11-17T06:54:17.029197Z"
    }
   },
   "outputs": [],
   "source": [
    "df.dropna(subset = ['Price'], inplace=True)"
   ]
  },
  {
   "cell_type": "code",
   "execution_count": 61,
   "id": "594b2ba5",
   "metadata": {
    "ExecuteTime": {
     "end_time": "2023-11-17T06:55:03.356253Z",
     "start_time": "2023-11-17T06:55:03.342037Z"
    }
   },
   "outputs": [],
   "source": [
    "df.dropna(inplace=True)"
   ]
  },
  {
   "cell_type": "code",
   "execution_count": 62,
   "id": "520b0231",
   "metadata": {
    "ExecuteTime": {
     "end_time": "2023-11-17T06:55:12.956166Z",
     "start_time": "2023-11-17T06:55:12.922623Z"
    }
   },
   "outputs": [
    {
     "name": "stdout",
     "output_type": "stream",
     "text": [
      "<class 'pandas.core.frame.DataFrame'>\n",
      "Index: 5872 entries, 0 to 6018\n",
      "Data columns (total 12 columns):\n",
      " #   Column             Non-Null Count  Dtype  \n",
      "---  ------             --------------  -----  \n",
      " 0   Name               5872 non-null   object \n",
      " 1   Location           5872 non-null   object \n",
      " 2   Year               5872 non-null   int64  \n",
      " 3   Kilometers_Driven  5872 non-null   int64  \n",
      " 4   Fuel_Type          5872 non-null   object \n",
      " 5   Transmission       5872 non-null   object \n",
      " 6   Owner_Type         5872 non-null   object \n",
      " 7   Mileage            5872 non-null   float64\n",
      " 8   Engine             5872 non-null   float64\n",
      " 9   Power              5872 non-null   float64\n",
      " 10  Seats              5872 non-null   float64\n",
      " 11  Price              5872 non-null   float64\n",
      "dtypes: float64(5), int64(2), object(5)\n",
      "memory usage: 596.4+ KB\n"
     ]
    }
   ],
   "source": [
    "df.info()"
   ]
  },
  {
   "cell_type": "code",
   "execution_count": 70,
   "id": "f94d4862",
   "metadata": {
    "ExecuteTime": {
     "end_time": "2023-11-17T06:59:03.374203Z",
     "start_time": "2023-11-17T06:59:03.330016Z"
    }
   },
   "outputs": [
    {
     "data": {
      "text/html": [
       "<div>\n",
       "<style scoped>\n",
       "    .dataframe tbody tr th:only-of-type {\n",
       "        vertical-align: middle;\n",
       "    }\n",
       "\n",
       "    .dataframe tbody tr th {\n",
       "        vertical-align: top;\n",
       "    }\n",
       "\n",
       "    .dataframe thead th {\n",
       "        text-align: right;\n",
       "    }\n",
       "</style>\n",
       "<table border=\"1\" class=\"dataframe\">\n",
       "  <thead>\n",
       "    <tr style=\"text-align: right;\">\n",
       "      <th></th>\n",
       "      <th>Name</th>\n",
       "      <th>Location</th>\n",
       "      <th>Fuel_Type</th>\n",
       "    </tr>\n",
       "  </thead>\n",
       "  <tbody>\n",
       "    <tr>\n",
       "      <th>0</th>\n",
       "      <td>Maruti Wagon R LXI CNG</td>\n",
       "      <td>Mumbai</td>\n",
       "      <td>CNG</td>\n",
       "    </tr>\n",
       "    <tr>\n",
       "      <th>1</th>\n",
       "      <td>Hyundai Creta 1.6 CRDi SX Option</td>\n",
       "      <td>Pune</td>\n",
       "      <td>Diesel</td>\n",
       "    </tr>\n",
       "    <tr>\n",
       "      <th>2</th>\n",
       "      <td>Honda Jazz V</td>\n",
       "      <td>Chennai</td>\n",
       "      <td>Petrol</td>\n",
       "    </tr>\n",
       "    <tr>\n",
       "      <th>3</th>\n",
       "      <td>Maruti Ertiga VDI</td>\n",
       "      <td>Chennai</td>\n",
       "      <td>Diesel</td>\n",
       "    </tr>\n",
       "    <tr>\n",
       "      <th>4</th>\n",
       "      <td>Audi A4 New 2.0 TDI Multitronic</td>\n",
       "      <td>Coimbatore</td>\n",
       "      <td>Diesel</td>\n",
       "    </tr>\n",
       "    <tr>\n",
       "      <th>...</th>\n",
       "      <td>...</td>\n",
       "      <td>...</td>\n",
       "      <td>...</td>\n",
       "    </tr>\n",
       "    <tr>\n",
       "      <th>6014</th>\n",
       "      <td>Maruti Swift VDI</td>\n",
       "      <td>Delhi</td>\n",
       "      <td>Diesel</td>\n",
       "    </tr>\n",
       "    <tr>\n",
       "      <th>6015</th>\n",
       "      <td>Hyundai Xcent 1.1 CRDi S</td>\n",
       "      <td>Jaipur</td>\n",
       "      <td>Diesel</td>\n",
       "    </tr>\n",
       "    <tr>\n",
       "      <th>6016</th>\n",
       "      <td>Mahindra Xylo D4 BSIV</td>\n",
       "      <td>Jaipur</td>\n",
       "      <td>Diesel</td>\n",
       "    </tr>\n",
       "    <tr>\n",
       "      <th>6017</th>\n",
       "      <td>Maruti Wagon R VXI</td>\n",
       "      <td>Kolkata</td>\n",
       "      <td>Petrol</td>\n",
       "    </tr>\n",
       "    <tr>\n",
       "      <th>6018</th>\n",
       "      <td>Chevrolet Beat Diesel</td>\n",
       "      <td>Hyderabad</td>\n",
       "      <td>Diesel</td>\n",
       "    </tr>\n",
       "  </tbody>\n",
       "</table>\n",
       "<p>5872 rows × 3 columns</p>\n",
       "</div>"
      ],
      "text/plain": [
       "                                  Name    Location Fuel_Type\n",
       "0               Maruti Wagon R LXI CNG      Mumbai       CNG\n",
       "1     Hyundai Creta 1.6 CRDi SX Option        Pune    Diesel\n",
       "2                         Honda Jazz V     Chennai    Petrol\n",
       "3                    Maruti Ertiga VDI     Chennai    Diesel\n",
       "4      Audi A4 New 2.0 TDI Multitronic  Coimbatore    Diesel\n",
       "...                                ...         ...       ...\n",
       "6014                  Maruti Swift VDI       Delhi    Diesel\n",
       "6015          Hyundai Xcent 1.1 CRDi S      Jaipur    Diesel\n",
       "6016             Mahindra Xylo D4 BSIV      Jaipur    Diesel\n",
       "6017                Maruti Wagon R VXI     Kolkata    Petrol\n",
       "6018             Chevrolet Beat Diesel   Hyderabad    Diesel\n",
       "\n",
       "[5872 rows x 3 columns]"
      ]
     },
     "execution_count": 70,
     "metadata": {},
     "output_type": "execute_result"
    }
   ],
   "source": [
    "df.select_dtypes(include='object')"
   ]
  },
  {
   "cell_type": "code",
   "execution_count": 65,
   "id": "08119798",
   "metadata": {
    "ExecuteTime": {
     "end_time": "2023-11-17T06:56:19.294208Z",
     "start_time": "2023-11-17T06:56:19.224575Z"
    }
   },
   "outputs": [
    {
     "data": {
      "text/html": [
       "<div>\n",
       "<style scoped>\n",
       "    .dataframe tbody tr th:only-of-type {\n",
       "        vertical-align: middle;\n",
       "    }\n",
       "\n",
       "    .dataframe tbody tr th {\n",
       "        vertical-align: top;\n",
       "    }\n",
       "\n",
       "    .dataframe thead th {\n",
       "        text-align: right;\n",
       "    }\n",
       "</style>\n",
       "<table border=\"1\" class=\"dataframe\">\n",
       "  <thead>\n",
       "    <tr style=\"text-align: right;\">\n",
       "      <th></th>\n",
       "      <th>Name</th>\n",
       "      <th>Location</th>\n",
       "      <th>Fuel_Type</th>\n",
       "      <th>Transmission</th>\n",
       "      <th>Owner_Type</th>\n",
       "    </tr>\n",
       "  </thead>\n",
       "  <tbody>\n",
       "    <tr>\n",
       "      <th>count</th>\n",
       "      <td>5872</td>\n",
       "      <td>5872</td>\n",
       "      <td>5872</td>\n",
       "      <td>5872</td>\n",
       "      <td>5872</td>\n",
       "    </tr>\n",
       "    <tr>\n",
       "      <th>unique</th>\n",
       "      <td>1811</td>\n",
       "      <td>11</td>\n",
       "      <td>4</td>\n",
       "      <td>2</td>\n",
       "      <td>4</td>\n",
       "    </tr>\n",
       "    <tr>\n",
       "      <th>top</th>\n",
       "      <td>Mahindra XUV500 W8 2WD</td>\n",
       "      <td>Mumbai</td>\n",
       "      <td>Diesel</td>\n",
       "      <td>Manual</td>\n",
       "      <td>First</td>\n",
       "    </tr>\n",
       "    <tr>\n",
       "      <th>freq</th>\n",
       "      <td>49</td>\n",
       "      <td>775</td>\n",
       "      <td>3152</td>\n",
       "      <td>4170</td>\n",
       "      <td>4839</td>\n",
       "    </tr>\n",
       "  </tbody>\n",
       "</table>\n",
       "</div>"
      ],
      "text/plain": [
       "                          Name Location Fuel_Type Transmission Owner_Type\n",
       "count                     5872     5872      5872         5872       5872\n",
       "unique                    1811       11         4            2          4\n",
       "top     Mahindra XUV500 W8 2WD   Mumbai    Diesel       Manual      First\n",
       "freq                        49      775      3152         4170       4839"
      ]
     },
     "execution_count": 65,
     "metadata": {},
     "output_type": "execute_result"
    }
   ],
   "source": [
    "df.describe(include='object')"
   ]
  },
  {
   "cell_type": "code",
   "execution_count": 67,
   "id": "8b772c33",
   "metadata": {
    "ExecuteTime": {
     "end_time": "2023-11-17T06:58:12.373406Z",
     "start_time": "2023-11-17T06:58:12.357703Z"
    }
   },
   "outputs": [],
   "source": [
    "df['Transmission'].replace(['Automatic', 'Manual'], [0, 1], inplace=True)"
   ]
  },
  {
   "cell_type": "code",
   "execution_count": 69,
   "id": "fcaf9b7a",
   "metadata": {
    "ExecuteTime": {
     "end_time": "2023-11-17T06:58:58.382508Z",
     "start_time": "2023-11-17T06:58:58.368144Z"
    }
   },
   "outputs": [],
   "source": [
    "df['Owner_Type'].replace(['First', 'Second', 'Fourth & Above', 'Third'], [1, 2, 4, 3], inplace=True)"
   ]
  },
  {
   "cell_type": "code",
   "execution_count": 71,
   "id": "9f612758",
   "metadata": {
    "ExecuteTime": {
     "end_time": "2023-11-17T06:59:32.623617Z",
     "start_time": "2023-11-17T06:59:32.614050Z"
    }
   },
   "outputs": [],
   "source": [
    "df.drop('Name', axis=1, inplace=True)"
   ]
  },
  {
   "cell_type": "code",
   "execution_count": 73,
   "id": "145dda1c",
   "metadata": {
    "ExecuteTime": {
     "end_time": "2023-11-17T07:00:20.515206Z",
     "start_time": "2023-11-17T07:00:20.492681Z"
    }
   },
   "outputs": [],
   "source": [
    "dummies = pd.get_dummies(data = df, columns = ['Location', 'Fuel_Type'], drop_first=True)"
   ]
  },
  {
   "cell_type": "code",
   "execution_count": 74,
   "id": "29616f5e",
   "metadata": {
    "ExecuteTime": {
     "end_time": "2023-11-17T07:00:27.969732Z",
     "start_time": "2023-11-17T07:00:27.932853Z"
    }
   },
   "outputs": [
    {
     "name": "stdout",
     "output_type": "stream",
     "text": [
      "<class 'pandas.core.frame.DataFrame'>\n",
      "Index: 5872 entries, 0 to 6018\n",
      "Data columns (total 22 columns):\n",
      " #   Column               Non-Null Count  Dtype  \n",
      "---  ------               --------------  -----  \n",
      " 0   Year                 5872 non-null   int64  \n",
      " 1   Kilometers_Driven    5872 non-null   int64  \n",
      " 2   Transmission         5872 non-null   int64  \n",
      " 3   Owner_Type           5872 non-null   int64  \n",
      " 4   Mileage              5872 non-null   float64\n",
      " 5   Engine               5872 non-null   float64\n",
      " 6   Power                5872 non-null   float64\n",
      " 7   Seats                5872 non-null   float64\n",
      " 8   Price                5872 non-null   float64\n",
      " 9   Location_Bangalore   5872 non-null   bool   \n",
      " 10  Location_Chennai     5872 non-null   bool   \n",
      " 11  Location_Coimbatore  5872 non-null   bool   \n",
      " 12  Location_Delhi       5872 non-null   bool   \n",
      " 13  Location_Hyderabad   5872 non-null   bool   \n",
      " 14  Location_Jaipur      5872 non-null   bool   \n",
      " 15  Location_Kochi       5872 non-null   bool   \n",
      " 16  Location_Kolkata     5872 non-null   bool   \n",
      " 17  Location_Mumbai      5872 non-null   bool   \n",
      " 18  Location_Pune        5872 non-null   bool   \n",
      " 19  Fuel_Type_Diesel     5872 non-null   bool   \n",
      " 20  Fuel_Type_LPG        5872 non-null   bool   \n",
      " 21  Fuel_Type_Petrol     5872 non-null   bool   \n",
      "dtypes: bool(13), float64(5), int64(4)\n",
      "memory usage: 533.3 KB\n"
     ]
    }
   ],
   "source": [
    "dummies.info()"
   ]
  },
  {
   "cell_type": "code",
   "execution_count": 76,
   "id": "ec6748c2",
   "metadata": {
    "ExecuteTime": {
     "end_time": "2023-11-17T07:02:29.301121Z",
     "start_time": "2023-11-17T07:02:28.916077Z"
    }
   },
   "outputs": [
    {
     "data": {
      "text/plain": [
       "<Axes: xlabel='Kilometers_Driven'>"
      ]
     },
     "execution_count": 76,
     "metadata": {},
     "output_type": "execute_result"
    },
    {
     "data": {
      "image/png": "[encoded data removed]",
      "text/plain": [
       "<Figure size 640x480 with 1 Axes>"
      ]
     },
     "metadata": {},
     "output_type": "display_data"
    }
   ],
   "source": [
    "sns.boxplot(data = df, x = 'Kilometers_Driven', showfliers=False)"
   ]
  },
  {
   "cell_type": "code",
   "execution_count": 77,
   "id": "dd33cd1a",
   "metadata": {
    "ExecuteTime": {
     "end_time": "2023-11-17T07:03:43.144230Z",
     "start_time": "2023-11-17T07:03:43.123448Z"
    }
   },
   "outputs": [],
   "source": [
    "def outlier(col):\n",
    "    \n",
    "    q1, q3 = np.percentile(col, [25, 75])\n",
    "    iqr = q3 - q1\n",
    "    \n",
    "    lw = q1 - 1.5 * iqr\n",
    "    uw = q3 + 1.5 * iqr\n",
    "    \n",
    "    return lw, uw"
   ]
  },
  {
   "cell_type": "code",
   "execution_count": 78,
   "id": "22f98512",
   "metadata": {
    "ExecuteTime": {
     "end_time": "2023-11-17T07:03:50.891881Z",
     "start_time": "2023-11-17T07:03:50.881314Z"
    }
   },
   "outputs": [
    {
     "data": {
      "text/plain": [
       "(-25047.875, 130873.125)"
      ]
     },
     "execution_count": 78,
     "metadata": {},
     "output_type": "execute_result"
    }
   ],
   "source": [
    "outlier(df['Kilometers_Driven'])"
   ]
  },
  {
   "cell_type": "code",
   "execution_count": 81,
   "id": "e6008f7a",
   "metadata": {
    "ExecuteTime": {
     "end_time": "2023-11-17T07:07:28.088199Z",
     "start_time": "2023-11-17T07:07:28.074226Z"
    }
   },
   "outputs": [],
   "source": [
    "for i in ['Kilometers_Driven', 'Engine', 'Power', 'Mileage']:\n",
    "    \n",
    "    lw, uw = outlier(dummies[i])\n",
    "    \n",
    "    dummies[i] = np.where(dummies[i] < lw, lw, dummies[i])\n",
    "    dummies[i] = np.where(dummies[i] > uw, uw, dummies[i])"
   ]
  },
  {
   "cell_type": "code",
   "execution_count": 82,
   "id": "7aceaa9d",
   "metadata": {
    "ExecuteTime": {
     "end_time": "2023-11-17T07:07:42.479778Z",
     "start_time": "2023-11-17T07:07:40.844555Z"
    }
   },
   "outputs": [
    {
     "data": {
      "application/javascript": [
       "\n",
       "        if (window._pyforest_update_imports_cell) { window._pyforest_update_imports_cell('import matplotlib.pyplot as plt'); }\n",
       "    "
      ],
      "text/plain": [
       "<IPython.core.display.Javascript object>"
      ]
     },
     "metadata": {},
     "output_type": "display_data"
    },
    {
     "data": {
      "application/javascript": [
       "\n",
       "        if (window._pyforest_update_imports_cell) { window._pyforest_update_imports_cell('import matplotlib.pyplot as plt'); }\n",
       "    "
      ],
      "text/plain": [
       "<IPython.core.display.Javascript object>"
      ]
     },
     "metadata": {},
     "output_type": "display_data"
    },
    {
     "data": {
      "application/javascript": [
       "\n",
       "        if (window._pyforest_update_imports_cell) { window._pyforest_update_imports_cell('import matplotlib.pyplot as plt'); }\n",
       "    "
      ],
      "text/plain": [
       "<IPython.core.display.Javascript object>"
      ]
     },
     "metadata": {},
     "output_type": "display_data"
    },
    {
     "data": {
      "application/javascript": [
       "\n",
       "        if (window._pyforest_update_imports_cell) { window._pyforest_update_imports_cell('import matplotlib.pyplot as plt'); }\n",
       "    "
      ],
      "text/plain": [
       "<IPython.core.display.Javascript object>"
      ]
     },
     "metadata": {},
     "output_type": "display_data"
    },
    {
     "data": {
      "application/javascript": [
       "\n",
       "        if (window._pyforest_update_imports_cell) { window._pyforest_update_imports_cell('import matplotlib.pyplot as plt'); }\n",
       "    "
      ],
      "text/plain": [
       "<IPython.core.display.Javascript object>"
      ]
     },
     "metadata": {},
     "output_type": "display_data"
    },
    {
     "data": {
      "text/plain": [
       "<Axes: xlabel='Power'>"
      ]
     },
     "execution_count": 82,
     "metadata": {},
     "output_type": "execute_result"
    },
    {
     "data": {
      "image/png": "[encoded data removed]",
      "text/plain": [
       "<Figure size 1500x600 with 4 Axes>"
      ]
     },
     "metadata": {},
     "output_type": "display_data"
    }
   ],
   "source": [
    "plt.figure(figsize = (15, 6))\n",
    "\n",
    "plt.subplot(2, 2, 1)\n",
    "sns.boxplot(x = dummies['Kilometers_Driven'])\n",
    "\n",
    "plt.subplot(2, 2, 2)\n",
    "sns.boxplot(x = dummies['Mileage'])\n",
    "\n",
    "plt.subplot(2, 2, 3)\n",
    "sns.boxplot(x = dummies['Engine'])\n",
    "\n",
    "plt.subplot(2, 2, 4)\n",
    "sns.boxplot(x = dummies['Power'])"
   ]
  },
  {
   "cell_type": "code",
   "execution_count": 83,
   "id": "223d5101",
   "metadata": {
    "ExecuteTime": {
     "end_time": "2023-11-17T07:08:07.822705Z",
     "start_time": "2023-11-17T07:08:07.788235Z"
    }
   },
   "outputs": [
    {
     "name": "stdout",
     "output_type": "stream",
     "text": [
      "<class 'pandas.core.frame.DataFrame'>\n",
      "Index: 5872 entries, 0 to 6018\n",
      "Data columns (total 22 columns):\n",
      " #   Column               Non-Null Count  Dtype  \n",
      "---  ------               --------------  -----  \n",
      " 0   Year                 5872 non-null   int64  \n",
      " 1   Kilometers_Driven    5872 non-null   float64\n",
      " 2   Transmission         5872 non-null   int64  \n",
      " 3   Owner_Type           5872 non-null   int64  \n",
      " 4   Mileage              5872 non-null   float64\n",
      " 5   Engine               5872 non-null   float64\n",
      " 6   Power                5872 non-null   float64\n",
      " 7   Seats                5872 non-null   float64\n",
      " 8   Price                5872 non-null   float64\n",
      " 9   Location_Bangalore   5872 non-null   bool   \n",
      " 10  Location_Chennai     5872 non-null   bool   \n",
      " 11  Location_Coimbatore  5872 non-null   bool   \n",
      " 12  Location_Delhi       5872 non-null   bool   \n",
      " 13  Location_Hyderabad   5872 non-null   bool   \n",
      " 14  Location_Jaipur      5872 non-null   bool   \n",
      " 15  Location_Kochi       5872 non-null   bool   \n",
      " 16  Location_Kolkata     5872 non-null   bool   \n",
      " 17  Location_Mumbai      5872 non-null   bool   \n",
      " 18  Location_Pune        5872 non-null   bool   \n",
      " 19  Fuel_Type_Diesel     5872 non-null   bool   \n",
      " 20  Fuel_Type_LPG        5872 non-null   bool   \n",
      " 21  Fuel_Type_Petrol     5872 non-null   bool   \n",
      "dtypes: bool(13), float64(6), int64(3)\n",
      "memory usage: 533.3 KB\n"
     ]
    }
   ],
   "source": [
    "dummies.info()"
   ]
  },
  {
   "cell_type": "code",
   "execution_count": 109,
   "id": "9fbe7e07",
   "metadata": {
    "ExecuteTime": {
     "end_time": "2023-11-17T07:23:00.738502Z",
     "start_time": "2023-11-17T07:23:00.706551Z"
    }
   },
   "outputs": [],
   "source": [
    "dummies['log_price'] = np.log(dummies['Price'])"
   ]
  },
  {
   "cell_type": "code",
   "execution_count": 110,
   "id": "b54921d4",
   "metadata": {
    "ExecuteTime": {
     "end_time": "2023-11-17T07:23:19.085130Z",
     "start_time": "2023-11-17T07:23:19.071886Z"
    }
   },
   "outputs": [],
   "source": [
    "X = dummies.drop(['Price', 'log_price'], axis=1)\n",
    "y = dummies['log_price']"
   ]
  },
  {
   "cell_type": "code",
   "execution_count": 111,
   "id": "4765b46b",
   "metadata": {
    "ExecuteTime": {
     "end_time": "2023-11-17T07:23:20.918162Z",
     "start_time": "2023-11-17T07:23:20.890283Z"
    }
   },
   "outputs": [],
   "source": [
    "from sklearn.model_selection import train_test_split\n",
    "\n",
    "X_train, X_test, y_train, y_test = train_test_split(X, y, test_size=0.3, random_state=42)"
   ]
  },
  {
   "cell_type": "code",
   "execution_count": 112,
   "id": "d6d6db84",
   "metadata": {
    "ExecuteTime": {
     "end_time": "2023-11-17T07:23:21.783170Z",
     "start_time": "2023-11-17T07:23:21.725864Z"
    }
   },
   "outputs": [
    {
     "data": {
      "text/html": [
       "<style>#sk-container-id-2 {color: black;background-color: white;}#sk-container-id-2 pre{padding: 0;}#sk-container-id-2 div.sk-toggleable {background-color: white;}#sk-container-id-2 label.sk-toggleable__label {cursor: pointer;display: block;width: 100%;margin-bottom: 0;padding: 0.3em;box-sizing: border-box;text-align: center;}#sk-container-id-2 label.sk-toggleable__label-arrow:before {content: \"▸\";float: left;margin-right: 0.25em;color: #696969;}#sk-container-id-2 label.sk-toggleable__label-arrow:hover:before {color: black;}#sk-container-id-2 div.sk-estimator:hover label.sk-toggleable__label-arrow:before {color: black;}#sk-container-id-2 div.sk-toggleable__content {max-height: 0;max-width: 0;overflow: hidden;text-align: left;background-color: #f0f8ff;}#sk-container-id-2 div.sk-toggleable__content pre {margin: 0.2em;color: black;border-radius: 0.25em;background-color: #f0f8ff;}#sk-container-id-2 input.sk-toggleable__control:checked~div.sk-toggleable__content {max-height: 200px;max-width: 100%;overflow: auto;}#sk-container-id-2 input.sk-toggleable__control:checked~label.sk-toggleable__label-arrow:before {content: \"▾\";}#sk-container-id-2 div.sk-estimator input.sk-toggleable__control:checked~label.sk-toggleable__label {background-color: #d4ebff;}#sk-container-id-2 div.sk-label input.sk-toggleable__control:checked~label.sk-toggleable__label {background-color: #d4ebff;}#sk-container-id-2 input.sk-hidden--visually {border: 0;clip: rect(1px 1px 1px 1px);clip: rect(1px, 1px, 1px, 1px);height: 1px;margin: -1px;overflow: hidden;padding: 0;position: absolute;width: 1px;}#sk-container-id-2 div.sk-estimator {font-family: monospace;background-color: #f0f8ff;border: 1px dotted black;border-radius: 0.25em;box-sizing: border-box;margin-bottom: 0.5em;}#sk-container-id-2 div.sk-estimator:hover {background-color: #d4ebff;}#sk-container-id-2 div.sk-parallel-item::after {content: \"\";width: 100%;border-bottom: 1px solid gray;flex-grow: 1;}#sk-container-id-2 div.sk-label:hover label.sk-toggleable__label {background-color: #d4ebff;}#sk-container-id-2 div.sk-serial::before {content: \"\";position: absolute;border-left: 1px solid gray;box-sizing: border-box;top: 0;bottom: 0;left: 50%;z-index: 0;}#sk-container-id-2 div.sk-serial {display: flex;flex-direction: column;align-items: center;background-color: white;padding-right: 0.2em;padding-left: 0.2em;position: relative;}#sk-container-id-2 div.sk-item {position: relative;z-index: 1;}#sk-container-id-2 div.sk-parallel {display: flex;align-items: stretch;justify-content: center;background-color: white;position: relative;}#sk-container-id-2 div.sk-item::before, #sk-container-id-2 div.sk-parallel-item::before {content: \"\";position: absolute;border-left: 1px solid gray;box-sizing: border-box;top: 0;bottom: 0;left: 50%;z-index: -1;}#sk-container-id-2 div.sk-parallel-item {display: flex;flex-direction: column;z-index: 1;position: relative;background-color: white;}#sk-container-id-2 div.sk-parallel-item:first-child::after {align-self: flex-end;width: 50%;}#sk-container-id-2 div.sk-parallel-item:last-child::after {align-self: flex-start;width: 50%;}#sk-container-id-2 div.sk-parallel-item:only-child::after {width: 0;}#sk-container-id-2 div.sk-dashed-wrapped {border: 1px dashed gray;margin: 0 0.4em 0.5em 0.4em;box-sizing: border-box;padding-bottom: 0.4em;background-color: white;}#sk-container-id-2 div.sk-label label {font-family: monospace;font-weight: bold;display: inline-block;line-height: 1.2em;}#sk-container-id-2 div.sk-label-container {text-align: center;}#sk-container-id-2 div.sk-container {/* jupyter's `normalize.less` sets `[hidden] { display: none; }` but bootstrap.min.css set `[hidden] { display: none !important; }` so we also need the `!important` here to be able to override the default hidden behavior on the sphinx rendered scikit-learn.org. See: https://github.com/scikit-learn/scikit-learn/issues/21755 */display: inline-block !important;position: relative;}#sk-container-id-2 div.sk-text-repr-fallback {display: none;}</style><div id=\"sk-container-id-2\" class=\"sk-top-container\"><div class=\"sk-text-repr-fallback\"><pre>LinearRegression()</pre><b>In a Jupyter environment, please rerun this cell to show the HTML representation or trust the notebook. <br />On GitHub, the HTML representation is unable to render, please try loading this page with nbviewer.org.</b></div><div class=\"sk-container\" hidden><div class=\"sk-item\"><div class=\"sk-estimator sk-toggleable\"><input class=\"sk-toggleable__control sk-hidden--visually\" id=\"sk-estimator-id-2\" type=\"checkbox\" checked><label for=\"sk-estimator-id-2\" class=\"sk-toggleable__label sk-toggleable__label-arrow\">LinearRegression</label><div class=\"sk-toggleable__content\"><pre>LinearRegression()</pre></div></div></div></div></div>"
      ],
      "text/plain": [
       "LinearRegression()"
      ]
     },
     "execution_count": 112,
     "metadata": {},
     "output_type": "execute_result"
    }
   ],
   "source": [
    "reg = LinearRegression()\n",
    "\n",
    "reg.fit(X_train, y_train)"
   ]
  },
  {
   "cell_type": "code",
   "execution_count": 113,
   "id": "2d6fbdbb",
   "metadata": {
    "ExecuteTime": {
     "end_time": "2023-11-17T07:23:23.925496Z",
     "start_time": "2023-11-17T07:23:23.885947Z"
    }
   },
   "outputs": [
    {
     "data": {
      "text/plain": [
       "0.8986128246323688"
      ]
     },
     "execution_count": 113,
     "metadata": {},
     "output_type": "execute_result"
    }
   ],
   "source": [
    "reg.score(X_train, y_train)"
   ]
  },
  {
   "cell_type": "code",
   "execution_count": 114,
   "id": "5f3d43d8",
   "metadata": {
    "ExecuteTime": {
     "end_time": "2023-11-17T07:23:24.995773Z",
     "start_time": "2023-11-17T07:23:24.963283Z"
    }
   },
   "outputs": [
    {
     "data": {
      "text/plain": [
       "0.8878331268563687"
      ]
     },
     "execution_count": 114,
     "metadata": {},
     "output_type": "execute_result"
    }
   ],
   "source": [
    "reg.score(X_test, y_test)"
   ]
  },
  {
   "cell_type": "code",
   "execution_count": null,
   "id": "d6f9c8e2",
   "metadata": {},
   "outputs": [],
   "source": []
  },
  {
   "cell_type": "code",
   "execution_count": 115,
   "id": "3eb9d1e5",
   "metadata": {
    "ExecuteTime": {
     "end_time": "2023-11-17T07:23:48.517149Z",
     "start_time": "2023-11-17T07:23:48.472098Z"
    }
   },
   "outputs": [],
   "source": [
    "X_c = sm.add_constant(X)\n",
    "\n",
    "X_c_train, X_c_test, y_train, y_test = train_test_split(X_c, y, test_size=0.3, random_state=42)"
   ]
  },
  {
   "cell_type": "code",
   "execution_count": 116,
   "id": "e197f35c",
   "metadata": {
    "ExecuteTime": {
     "end_time": "2023-11-17T07:23:49.400373Z",
     "start_time": "2023-11-17T07:23:49.260555Z"
    }
   },
   "outputs": [
    {
     "data": {
      "text/html": [
       "<table class=\"simpletable\">\n",
       "<caption>OLS Regression Results</caption>\n",
       "<tr>\n",
       "  <th>Dep. Variable:</th>        <td>log_price</td>    <th>  R-squared:         </th> <td>   0.899</td>\n",
       "</tr>\n",
       "<tr>\n",
       "  <th>Model:</th>                   <td>OLS</td>       <th>  Adj. R-squared:    </th> <td>   0.898</td>\n",
       "</tr>\n",
       "<tr>\n",
       "  <th>Method:</th>             <td>Least Squares</td>  <th>  F-statistic:       </th> <td>   1725.</td>\n",
       "</tr>\n",
       "<tr>\n",
       "  <th>Date:</th>             <td>Fri, 17 Nov 2023</td> <th>  Prob (F-statistic):</th>  <td>  0.00</td> \n",
       "</tr>\n",
       "<tr>\n",
       "  <th>Time:</th>                 <td>12:53:49</td>     <th>  Log-Likelihood:    </th> <td> -538.31</td>\n",
       "</tr>\n",
       "<tr>\n",
       "  <th>No. Observations:</th>      <td>  4110</td>      <th>  AIC:               </th> <td>   1121.</td>\n",
       "</tr>\n",
       "<tr>\n",
       "  <th>Df Residuals:</th>          <td>  4088</td>      <th>  BIC:               </th> <td>   1260.</td>\n",
       "</tr>\n",
       "<tr>\n",
       "  <th>Df Model:</th>              <td>    21</td>      <th>                     </th>     <td> </td>   \n",
       "</tr>\n",
       "<tr>\n",
       "  <th>Covariance Type:</th>      <td>nonrobust</td>    <th>                     </th>     <td> </td>   \n",
       "</tr>\n",
       "</table>\n",
       "<table class=\"simpletable\">\n",
       "<tr>\n",
       "           <td></td>              <th>coef</th>     <th>std err</th>      <th>t</th>      <th>P>|t|</th>  <th>[0.025</th>    <th>0.975]</th>  \n",
       "</tr>\n",
       "<tr>\n",
       "  <th>const</th>               <td> -225.6329</td> <td>    3.934</td> <td>  -57.356</td> <td> 0.000</td> <td> -233.346</td> <td> -217.920</td>\n",
       "</tr>\n",
       "<tr>\n",
       "  <th>Year</th>                <td>    0.1126</td> <td>    0.002</td> <td>   57.476</td> <td> 0.000</td> <td>    0.109</td> <td>    0.116</td>\n",
       "</tr>\n",
       "<tr>\n",
       "  <th>Kilometers_Driven</th>   <td>-2.504e-06</td> <td> 1.97e-07</td> <td>  -12.728</td> <td> 0.000</td> <td>-2.89e-06</td> <td>-2.12e-06</td>\n",
       "</tr>\n",
       "<tr>\n",
       "  <th>Transmission</th>        <td>   -0.2046</td> <td>    0.013</td> <td>  -15.185</td> <td> 0.000</td> <td>   -0.231</td> <td>   -0.178</td>\n",
       "</tr>\n",
       "<tr>\n",
       "  <th>Owner_Type</th>          <td>   -0.0537</td> <td>    0.011</td> <td>   -5.033</td> <td> 0.000</td> <td>   -0.075</td> <td>   -0.033</td>\n",
       "</tr>\n",
       "<tr>\n",
       "  <th>Mileage</th>             <td>   -0.0099</td> <td>    0.002</td> <td>   -5.187</td> <td> 0.000</td> <td>   -0.014</td> <td>   -0.006</td>\n",
       "</tr>\n",
       "<tr>\n",
       "  <th>Engine</th>              <td>    0.0003</td> <td> 2.21e-05</td> <td>   12.103</td> <td> 0.000</td> <td>    0.000</td> <td>    0.000</td>\n",
       "</tr>\n",
       "<tr>\n",
       "  <th>Power</th>               <td>    0.0089</td> <td>    0.000</td> <td>   37.588</td> <td> 0.000</td> <td>    0.008</td> <td>    0.009</td>\n",
       "</tr>\n",
       "<tr>\n",
       "  <th>Seats</th>               <td>   -0.0333</td> <td>    0.007</td> <td>   -4.582</td> <td> 0.000</td> <td>   -0.048</td> <td>   -0.019</td>\n",
       "</tr>\n",
       "<tr>\n",
       "  <th>Location_Bangalore</th>  <td>    0.1271</td> <td>    0.029</td> <td>    4.449</td> <td> 0.000</td> <td>    0.071</td> <td>    0.183</td>\n",
       "</tr>\n",
       "<tr>\n",
       "  <th>Location_Chennai</th>    <td>    0.0256</td> <td>    0.027</td> <td>    0.948</td> <td> 0.343</td> <td>   -0.027</td> <td>    0.079</td>\n",
       "</tr>\n",
       "<tr>\n",
       "  <th>Location_Coimbatore</th> <td>    0.0830</td> <td>    0.026</td> <td>    3.177</td> <td> 0.001</td> <td>    0.032</td> <td>    0.134</td>\n",
       "</tr>\n",
       "<tr>\n",
       "  <th>Location_Delhi</th>      <td>   -0.0568</td> <td>    0.027</td> <td>   -2.137</td> <td> 0.033</td> <td>   -0.109</td> <td>   -0.005</td>\n",
       "</tr>\n",
       "<tr>\n",
       "  <th>Location_Hyderabad</th>  <td>    0.1344</td> <td>    0.026</td> <td>    5.245</td> <td> 0.000</td> <td>    0.084</td> <td>    0.185</td>\n",
       "</tr>\n",
       "<tr>\n",
       "  <th>Location_Jaipur</th>     <td>   -0.0474</td> <td>    0.028</td> <td>   -1.719</td> <td> 0.086</td> <td>   -0.102</td> <td>    0.007</td>\n",
       "</tr>\n",
       "<tr>\n",
       "  <th>Location_Kochi</th>      <td>   -0.0304</td> <td>    0.026</td> <td>   -1.155</td> <td> 0.248</td> <td>   -0.082</td> <td>    0.021</td>\n",
       "</tr>\n",
       "<tr>\n",
       "  <th>Location_Kolkata</th>    <td>   -0.2397</td> <td>    0.027</td> <td>   -8.938</td> <td> 0.000</td> <td>   -0.292</td> <td>   -0.187</td>\n",
       "</tr>\n",
       "<tr>\n",
       "  <th>Location_Mumbai</th>     <td>   -0.0700</td> <td>    0.025</td> <td>   -2.747</td> <td> 0.006</td> <td>   -0.120</td> <td>   -0.020</td>\n",
       "</tr>\n",
       "<tr>\n",
       "  <th>Location_Pune</th>       <td>   -0.0469</td> <td>    0.026</td> <td>   -1.785</td> <td> 0.074</td> <td>   -0.098</td> <td>    0.005</td>\n",
       "</tr>\n",
       "<tr>\n",
       "  <th>Fuel_Type_Diesel</th>    <td>    0.1533</td> <td>    0.046</td> <td>    3.319</td> <td> 0.001</td> <td>    0.063</td> <td>    0.244</td>\n",
       "</tr>\n",
       "<tr>\n",
       "  <th>Fuel_Type_LPG</th>       <td>   -0.0112</td> <td>    0.115</td> <td>   -0.098</td> <td> 0.922</td> <td>   -0.236</td> <td>    0.213</td>\n",
       "</tr>\n",
       "<tr>\n",
       "  <th>Fuel_Type_Petrol</th>    <td>   -0.1039</td> <td>    0.047</td> <td>   -2.212</td> <td> 0.027</td> <td>   -0.196</td> <td>   -0.012</td>\n",
       "</tr>\n",
       "</table>\n",
       "<table class=\"simpletable\">\n",
       "<tr>\n",
       "  <th>Omnibus:</th>       <td>350.037</td> <th>  Durbin-Watson:     </th> <td>   2.011</td> \n",
       "</tr>\n",
       "<tr>\n",
       "  <th>Prob(Omnibus):</th> <td> 0.000</td>  <th>  Jarque-Bera (JB):  </th> <td>1302.965</td> \n",
       "</tr>\n",
       "<tr>\n",
       "  <th>Skew:</th>          <td>-0.371</td>  <th>  Prob(JB):          </th> <td>1.16e-283</td>\n",
       "</tr>\n",
       "<tr>\n",
       "  <th>Kurtosis:</th>      <td> 5.657</td>  <th>  Cond. No.          </th> <td>5.79e+07</td> \n",
       "</tr>\n",
       "</table><br/><br/>Notes:<br/>[1] Standard Errors assume that the covariance matrix of the errors is correctly specified.<br/>[2] The condition number is large, 5.79e+07. This might indicate that there are<br/>strong multicollinearity or other numerical problems."
      ],
      "text/latex": [
       "\\begin{center}\n",
       "\\begin{tabular}{lclc}\n",
       "\\toprule\n",
       "\\textbf{Dep. Variable:}       &    log\\_price    & \\textbf{  R-squared:         } &     0.899   \\\\\n",
       "\\textbf{Model:}               &       OLS        & \\textbf{  Adj. R-squared:    } &     0.898   \\\\\n",
       "\\textbf{Method:}              &  Least Squares   & \\textbf{  F-statistic:       } &     1725.   \\\\\n",
       "\\textbf{Date:}                & Fri, 17 Nov 2023 & \\textbf{  Prob (F-statistic):} &     0.00    \\\\\n",
       "\\textbf{Time:}                &     12:53:49     & \\textbf{  Log-Likelihood:    } &   -538.31   \\\\\n",
       "\\textbf{No. Observations:}    &        4110      & \\textbf{  AIC:               } &     1121.   \\\\\n",
       "\\textbf{Df Residuals:}        &        4088      & \\textbf{  BIC:               } &     1260.   \\\\\n",
       "\\textbf{Df Model:}            &          21      & \\textbf{                     } &             \\\\\n",
       "\\textbf{Covariance Type:}     &    nonrobust     & \\textbf{                     } &             \\\\\n",
       "\\bottomrule\n",
       "\\end{tabular}\n",
       "\\begin{tabular}{lcccccc}\n",
       "                              & \\textbf{coef} & \\textbf{std err} & \\textbf{t} & \\textbf{P$> |$t$|$} & \\textbf{[0.025} & \\textbf{0.975]}  \\\\\n",
       "\\midrule\n",
       "\\textbf{const}                &    -225.6329  &        3.934     &   -57.356  &         0.000        &     -233.346    &     -217.920     \\\\\n",
       "\\textbf{Year}                 &       0.1126  &        0.002     &    57.476  &         0.000        &        0.109    &        0.116     \\\\\n",
       "\\textbf{Kilometers\\_Driven}   &   -2.504e-06  &     1.97e-07     &   -12.728  &         0.000        &    -2.89e-06    &    -2.12e-06     \\\\\n",
       "\\textbf{Transmission}         &      -0.2046  &        0.013     &   -15.185  &         0.000        &       -0.231    &       -0.178     \\\\\n",
       "\\textbf{Owner\\_Type}          &      -0.0537  &        0.011     &    -5.033  &         0.000        &       -0.075    &       -0.033     \\\\\n",
       "\\textbf{Mileage}              &      -0.0099  &        0.002     &    -5.187  &         0.000        &       -0.014    &       -0.006     \\\\\n",
       "\\textbf{Engine}               &       0.0003  &     2.21e-05     &    12.103  &         0.000        &        0.000    &        0.000     \\\\\n",
       "\\textbf{Power}                &       0.0089  &        0.000     &    37.588  &         0.000        &        0.008    &        0.009     \\\\\n",
       "\\textbf{Seats}                &      -0.0333  &        0.007     &    -4.582  &         0.000        &       -0.048    &       -0.019     \\\\\n",
       "\\textbf{Location\\_Bangalore}  &       0.1271  &        0.029     &     4.449  &         0.000        &        0.071    &        0.183     \\\\\n",
       "\\textbf{Location\\_Chennai}    &       0.0256  &        0.027     &     0.948  &         0.343        &       -0.027    &        0.079     \\\\\n",
       "\\textbf{Location\\_Coimbatore} &       0.0830  &        0.026     &     3.177  &         0.001        &        0.032    &        0.134     \\\\\n",
       "\\textbf{Location\\_Delhi}      &      -0.0568  &        0.027     &    -2.137  &         0.033        &       -0.109    &       -0.005     \\\\\n",
       "\\textbf{Location\\_Hyderabad}  &       0.1344  &        0.026     &     5.245  &         0.000        &        0.084    &        0.185     \\\\\n",
       "\\textbf{Location\\_Jaipur}     &      -0.0474  &        0.028     &    -1.719  &         0.086        &       -0.102    &        0.007     \\\\\n",
       "\\textbf{Location\\_Kochi}      &      -0.0304  &        0.026     &    -1.155  &         0.248        &       -0.082    &        0.021     \\\\\n",
       "\\textbf{Location\\_Kolkata}    &      -0.2397  &        0.027     &    -8.938  &         0.000        &       -0.292    &       -0.187     \\\\\n",
       "\\textbf{Location\\_Mumbai}     &      -0.0700  &        0.025     &    -2.747  &         0.006        &       -0.120    &       -0.020     \\\\\n",
       "\\textbf{Location\\_Pune}       &      -0.0469  &        0.026     &    -1.785  &         0.074        &       -0.098    &        0.005     \\\\\n",
       "\\textbf{Fuel\\_Type\\_Diesel}   &       0.1533  &        0.046     &     3.319  &         0.001        &        0.063    &        0.244     \\\\\n",
       "\\textbf{Fuel\\_Type\\_LPG}      &      -0.0112  &        0.115     &    -0.098  &         0.922        &       -0.236    &        0.213     \\\\\n",
       "\\textbf{Fuel\\_Type\\_Petrol}   &      -0.1039  &        0.047     &    -2.212  &         0.027        &       -0.196    &       -0.012     \\\\\n",
       "\\bottomrule\n",
       "\\end{tabular}\n",
       "\\begin{tabular}{lclc}\n",
       "\\textbf{Omnibus:}       & 350.037 & \\textbf{  Durbin-Watson:     } &     2.011  \\\\\n",
       "\\textbf{Prob(Omnibus):} &   0.000 & \\textbf{  Jarque-Bera (JB):  } &  1302.965  \\\\\n",
       "\\textbf{Skew:}          &  -0.371 & \\textbf{  Prob(JB):          } & 1.16e-283  \\\\\n",
       "\\textbf{Kurtosis:}      &   5.657 & \\textbf{  Cond. No.          } &  5.79e+07  \\\\\n",
       "\\bottomrule\n",
       "\\end{tabular}\n",
       "%\\caption{OLS Regression Results}\n",
       "\\end{center}\n",
       "\n",
       "Notes: \\newline\n",
       " [1] Standard Errors assume that the covariance matrix of the errors is correctly specified. \\newline\n",
       " [2] The condition number is large, 5.79e+07. This might indicate that there are \\newline\n",
       " strong multicollinearity or other numerical problems."
      ],
      "text/plain": [
       "<class 'statsmodels.iolib.summary.Summary'>\n",
       "\"\"\"\n",
       "                            OLS Regression Results                            \n",
       "==============================================================================\n",
       "Dep. Variable:              log_price   R-squared:                       0.899\n",
       "Model:                            OLS   Adj. R-squared:                  0.898\n",
       "Method:                 Least Squares   F-statistic:                     1725.\n",
       "Date:                Fri, 17 Nov 2023   Prob (F-statistic):               0.00\n",
       "Time:                        12:53:49   Log-Likelihood:                -538.31\n",
       "No. Observations:                4110   AIC:                             1121.\n",
       "Df Residuals:                    4088   BIC:                             1260.\n",
       "Df Model:                          21                                         \n",
       "Covariance Type:            nonrobust                                         \n",
       "=======================================================================================\n",
       "                          coef    std err          t      P>|t|      [0.025      0.975]\n",
       "---------------------------------------------------------------------------------------\n",
       "const                -225.6329      3.934    -57.356      0.000    -233.346    -217.920\n",
       "Year                    0.1126      0.002     57.476      0.000       0.109       0.116\n",
       "Kilometers_Driven   -2.504e-06   1.97e-07    -12.728      0.000   -2.89e-06   -2.12e-06\n",
       "Transmission           -0.2046      0.013    -15.185      0.000      -0.231      -0.178\n",
       "Owner_Type             -0.0537      0.011     -5.033      0.000      -0.075      -0.033\n",
       "Mileage                -0.0099      0.002     -5.187      0.000      -0.014      -0.006\n",
       "Engine                  0.0003   2.21e-05     12.103      0.000       0.000       0.000\n",
       "Power                   0.0089      0.000     37.588      0.000       0.008       0.009\n",
       "Seats                  -0.0333      0.007     -4.582      0.000      -0.048      -0.019\n",
       "Location_Bangalore      0.1271      0.029      4.449      0.000       0.071       0.183\n",
       "Location_Chennai        0.0256      0.027      0.948      0.343      -0.027       0.079\n",
       "Location_Coimbatore     0.0830      0.026      3.177      0.001       0.032       0.134\n",
       "Location_Delhi         -0.0568      0.027     -2.137      0.033      -0.109      -0.005\n",
       "Location_Hyderabad      0.1344      0.026      5.245      0.000       0.084       0.185\n",
       "Location_Jaipur        -0.0474      0.028     -1.719      0.086      -0.102       0.007\n",
       "Location_Kochi         -0.0304      0.026     -1.155      0.248      -0.082       0.021\n",
       "Location_Kolkata       -0.2397      0.027     -8.938      0.000      -0.292      -0.187\n",
       "Location_Mumbai        -0.0700      0.025     -2.747      0.006      -0.120      -0.020\n",
       "Location_Pune          -0.0469      0.026     -1.785      0.074      -0.098       0.005\n",
       "Fuel_Type_Diesel        0.1533      0.046      3.319      0.001       0.063       0.244\n",
       "Fuel_Type_LPG          -0.0112      0.115     -0.098      0.922      -0.236       0.213\n",
       "Fuel_Type_Petrol       -0.1039      0.047     -2.212      0.027      -0.196      -0.012\n",
       "==============================================================================\n",
       "Omnibus:                      350.037   Durbin-Watson:                   2.011\n",
       "Prob(Omnibus):                  0.000   Jarque-Bera (JB):             1302.965\n",
       "Skew:                          -0.371   Prob(JB):                    1.16e-283\n",
       "Kurtosis:                       5.657   Cond. No.                     5.79e+07\n",
       "==============================================================================\n",
       "\n",
       "Notes:\n",
       "[1] Standard Errors assume that the covariance matrix of the errors is correctly specified.\n",
       "[2] The condition number is large, 5.79e+07. This might indicate that there are\n",
       "strong multicollinearity or other numerical problems.\n",
       "\"\"\""
      ]
     },
     "execution_count": 116,
     "metadata": {},
     "output_type": "execute_result"
    }
   ],
   "source": [
    "model = sm.OLS(y_train, X_c_train.astype(float)).fit()\n",
    "model.summary()"
   ]
  },
  {
   "cell_type": "code",
   "execution_count": 95,
   "id": "5c5ce93d",
   "metadata": {
    "ExecuteTime": {
     "end_time": "2023-11-17T07:15:19.999092Z",
     "start_time": "2023-11-17T07:15:19.987040Z"
    }
   },
   "outputs": [],
   "source": [
    "X_c_train.drop('Owner_Type', axis=1, inplace=True)\n",
    "X_c_test.drop('Owner_Type', axis=1, inplace=True)"
   ]
  },
  {
   "cell_type": "code",
   "execution_count": null,
   "id": "08154dfa",
   "metadata": {},
   "outputs": [],
   "source": []
  },
  {
   "cell_type": "code",
   "execution_count": 117,
   "id": "1c7d9aee",
   "metadata": {
    "ExecuteTime": {
     "end_time": "2023-11-17T07:24:19.450299Z",
     "start_time": "2023-11-17T07:24:19.432557Z"
    }
   },
   "outputs": [],
   "source": [
    "pred = model.predict(X_c_test)"
   ]
  },
  {
   "cell_type": "code",
   "execution_count": 118,
   "id": "2c1616ab",
   "metadata": {
    "ExecuteTime": {
     "end_time": "2023-11-17T07:24:21.723888Z",
     "start_time": "2023-11-17T07:24:21.699383Z"
    }
   },
   "outputs": [
    {
     "data": {
      "text/plain": [
       "0.2874155544814012"
      ]
     },
     "execution_count": 118,
     "metadata": {},
     "output_type": "execute_result"
    }
   ],
   "source": [
    "(mean_squared_error(y_test, pred)) ** 0.5"
   ]
  },
  {
   "cell_type": "code",
   "execution_count": 119,
   "id": "5b93fb0e",
   "metadata": {
    "ExecuteTime": {
     "end_time": "2023-11-17T07:24:30.591600Z",
     "start_time": "2023-11-17T07:24:30.565701Z"
    }
   },
   "outputs": [
    {
     "data": {
      "text/plain": [
       "0.8585700814024113"
      ]
     },
     "execution_count": 119,
     "metadata": {},
     "output_type": "execute_result"
    }
   ],
   "source": [
    "rmse = pd.DataFrame({'Actual': y_test, 'Pred': y_train.mean()})\n",
    "(mean_squared_error(rmse['Actual'], rmse['Pred'])) ** 0.5"
   ]
  },
  {
   "cell_type": "code",
   "execution_count": 120,
   "id": "c957baec",
   "metadata": {
    "ExecuteTime": {
     "end_time": "2023-11-17T07:24:42.494394Z",
     "start_time": "2023-11-17T07:24:42.471413Z"
    }
   },
   "outputs": [
    {
     "data": {
      "text/plain": [
       "0.3294117647058824"
      ]
     },
     "execution_count": 120,
     "metadata": {},
     "output_type": "execute_result"
    }
   ],
   "source": [
    "0.28/0.85"
   ]
  },
  {
   "cell_type": "code",
   "execution_count": 129,
   "id": "c5a5706f",
   "metadata": {
    "ExecuteTime": {
     "end_time": "2023-11-17T07:39:22.660435Z",
     "start_time": "2023-11-17T07:39:22.619921Z"
    }
   },
   "outputs": [
    {
     "data": {
      "text/plain": [
       "0       1.011601\n",
       "1       2.602690\n",
       "2       1.704748\n",
       "3       1.945910\n",
       "4       2.930660\n",
       "          ...   \n",
       "6014    1.749200\n",
       "6015    1.609438\n",
       "6016    1.360977\n",
       "6017    1.294727\n",
       "6018    1.252763\n",
       "Name: Price, Length: 5872, dtype: float64"
      ]
     },
     "execution_count": 129,
     "metadata": {},
     "output_type": "execute_result"
    }
   ],
   "source": [
    "np.log1p(df['Price'])"
   ]
  },
  {
   "cell_type": "code",
   "execution_count": 121,
   "id": "3f916ac2",
   "metadata": {
    "ExecuteTime": {
     "end_time": "2023-11-17T07:25:04.085763Z",
     "start_time": "2023-11-17T07:25:04.066092Z"
    }
   },
   "outputs": [],
   "source": [
    "residual = y_test - pred"
   ]
  },
  {
   "cell_type": "code",
   "execution_count": 122,
   "id": "36a44c15",
   "metadata": {
    "ExecuteTime": {
     "end_time": "2023-11-17T07:25:05.546343Z",
     "start_time": "2023-11-17T07:25:05.535871Z"
    }
   },
   "outputs": [
    {
     "data": {
      "text/plain": [
       "-0.011147069507806032"
      ]
     },
     "execution_count": 122,
     "metadata": {},
     "output_type": "execute_result"
    }
   ],
   "source": [
    "residual.mean()"
   ]
  },
  {
   "cell_type": "code",
   "execution_count": 123,
   "id": "8c15401b",
   "metadata": {
    "ExecuteTime": {
     "end_time": "2023-11-17T07:25:23.355474Z",
     "start_time": "2023-11-17T07:25:22.801892Z"
    }
   },
   "outputs": [
    {
     "data": {
      "text/plain": [
       "<Axes: ylabel='Density'>"
      ]
     },
     "execution_count": 123,
     "metadata": {},
     "output_type": "execute_result"
    },
    {
     "data": {
      "image/png": "[encoded data removed]",
      "text/plain": [
       "<Figure size 640x480 with 1 Axes>"
      ]
     },
     "metadata": {},
     "output_type": "display_data"
    }
   ],
   "source": [
    "sns.kdeplot(residual)"
   ]
  },
  {
   "cell_type": "code",
   "execution_count": 124,
   "id": "adfcab46",
   "metadata": {
    "ExecuteTime": {
     "end_time": "2023-11-17T07:25:37.215876Z",
     "start_time": "2023-11-17T07:25:36.519827Z"
    }
   },
   "outputs": [
    {
     "data": {
      "text/plain": [
       "<Axes: >"
      ]
     },
     "execution_count": 124,
     "metadata": {},
     "output_type": "execute_result"
    },
    {
     "data": {
      "image/png": "[encoded data removed]",
      "text/plain": [
       "<Figure size 640x480 with 1 Axes>"
      ]
     },
     "metadata": {},
     "output_type": "display_data"
    }
   ],
   "source": [
    "sns.scatterplot(x = pred, y = residual)"
   ]
  },
  {
   "cell_type": "code",
   "execution_count": null,
   "id": "125aa942",
   "metadata": {},
   "outputs": [],
   "source": []
  },
  {
   "cell_type": "code",
   "execution_count": 108,
   "id": "75763012",
   "metadata": {
    "ExecuteTime": {
     "end_time": "2023-11-17T07:21:21.596018Z",
     "start_time": "2023-11-17T07:21:20.878422Z"
    }
   },
   "outputs": [
    {
     "data": {
      "text/plain": [
       "<Axes: xlabel='Price', ylabel='Density'>"
      ]
     },
     "execution_count": 108,
     "metadata": {},
     "output_type": "execute_result"
    },
    {
     "data": {
      "image/png": "[encoded data removed]",
      "text/plain": [
       "<Figure size 640x480 with 1 Axes>"
      ]
     },
     "metadata": {},
     "output_type": "display_data"
    }
   ],
   "source": [
    "sns.kdeplot(df['Price'])"
   ]
  },
  {
   "cell_type": "code",
   "execution_count": null,
   "id": "12ed4d42",
   "metadata": {},
   "outputs": [],
   "source": []
  },
  {
   "cell_type": "code",
   "execution_count": null,
   "id": "356d6fcf",
   "metadata": {},
   "outputs": [],
   "source": []
  },
  {
   "cell_type": "code",
   "execution_count": null,
   "id": "dc4a9dd3",
   "metadata": {},
   "outputs": [],
   "source": []
  },
  {
   "cell_type": "code",
   "execution_count": null,
   "id": "96eef1b7",
   "metadata": {},
   "outputs": [],
   "source": []
  },
  {
   "cell_type": "code",
   "execution_count": null,
   "id": "3d6d45ac",
   "metadata": {},
   "outputs": [],
   "source": []
  },
  {
   "cell_type": "code",
   "execution_count": null,
   "id": "00180ee5",
   "metadata": {},
   "outputs": [],
   "source": []
  },
  {
   "cell_type": "code",
   "execution_count": null,
   "id": "b7db9854",
   "metadata": {},
   "outputs": [],
   "source": []
  },
  {
   "cell_type": "code",
   "execution_count": null,
   "id": "d1d5e650",
   "metadata": {},
   "outputs": [],
   "source": []
  },
  {
   "cell_type": "code",
   "execution_count": null,
   "id": "2f239913",
   "metadata": {},
   "outputs": [],
   "source": []
  },
  {
   "cell_type": "code",
   "execution_count": null,
   "id": "4ec34155",
   "metadata": {},
   "outputs": [],
   "source": []
  },
  {
   "cell_type": "code",
   "execution_count": null,
   "id": "496e2113",
   "metadata": {},
   "outputs": [],
   "source": []
  },
  {
   "cell_type": "code",
   "execution_count": null,
   "id": "5cd84d6f",
   "metadata": {},
   "outputs": [],
   "source": []
  },
  {
   "cell_type": "code",
   "execution_count": null,
   "id": "fc08f173",
   "metadata": {},
   "outputs": [],
   "source": []
  },
  {
   "cell_type": "code",
   "execution_count": null,
   "id": "adc3ff26",
   "metadata": {},
   "outputs": [],
   "source": []
  },
  {
   "cell_type": "code",
   "execution_count": null,
   "id": "3d8b2847",
   "metadata": {},
   "outputs": [],
   "source": []
  },
  {
   "cell_type": "code",
   "execution_count": null,
   "id": "325da4ea",
   "metadata": {},
   "outputs": [],
   "source": []
  },
  {
   "cell_type": "code",
   "execution_count": null,
   "id": "1765e3e5",
   "metadata": {},
   "outputs": [],
   "source": []
  },
  {
   "cell_type": "code",
   "execution_count": null,
   "id": "7884b75b",
   "metadata": {},
   "outputs": [],
   "source": []
  },
  {
   "cell_type": "code",
   "execution_count": null,
   "id": "90885691",
   "metadata": {},
   "outputs": [],
   "source": []
  },
  {
   "cell_type": "code",
   "execution_count": null,
   "id": "10af1f21",
   "metadata": {},
   "outputs": [],
   "source": []
  },
  {
   "cell_type": "code",
   "execution_count": null,
   "id": "c0451132",
   "metadata": {},
   "outputs": [],
   "source": []
  },
  {
   "cell_type": "code",
   "execution_count": null,
   "id": "d2f55efb",
   "metadata": {},
   "outputs": [],
   "source": []
  },
  {
   "cell_type": "code",
   "execution_count": null,
   "id": "1e14ed17",
   "metadata": {},
   "outputs": [],
   "source": []
  },
  {
   "cell_type": "code",
   "execution_count": null,
   "id": "8769b1ae",
   "metadata": {},
   "outputs": [],
   "source": []
  },
  {
   "cell_type": "code",
   "execution_count": null,
   "id": "54d77250",
   "metadata": {},
   "outputs": [],
   "source": []
  },
  {
   "cell_type": "code",
   "execution_count": null,
   "id": "49d08f6b",
   "metadata": {},
   "outputs": [],
   "source": []
  },
  {
   "cell_type": "code",
   "execution_count": null,
   "id": "68c1a50b",
   "metadata": {},
   "outputs": [],
   "source": []
  },
  {
   "cell_type": "code",
   "execution_count": null,
   "id": "65006c26",
   "metadata": {},
   "outputs": [],
   "source": []
  },
  {
   "cell_type": "code",
   "execution_count": null,
   "id": "31eb2234",
   "metadata": {},
   "outputs": [],
   "source": []
  },
  {
   "cell_type": "code",
   "execution_count": null,
   "id": "ec2ff929",
   "metadata": {},
   "outputs": [],
   "source": []
  },
  {
   "cell_type": "code",
   "execution_count": null,
   "id": "5e460b7e",
   "metadata": {},
   "outputs": [],
   "source": []
  },
  {
   "cell_type": "code",
   "execution_count": null,
   "id": "873d1391",
   "metadata": {},
   "outputs": [],
   "source": []
  },
  {
   "cell_type": "code",
   "execution_count": null,
   "id": "b9e28279",
   "metadata": {},
   "outputs": [],
   "source": []
  },
  {
   "cell_type": "code",
   "execution_count": null,
   "id": "a25ca1d0",
   "metadata": {},
   "outputs": [],
   "source": []
  },
  {
   "cell_type": "code",
   "execution_count": null,
   "id": "93de0aaf",
   "metadata": {},
   "outputs": [],
   "source": []
  },
  {
   "cell_type": "code",
   "execution_count": null,
   "id": "82923d15",
   "metadata": {},
   "outputs": [],
   "source": []
  },
  {
   "cell_type": "code",
   "execution_count": null,
   "id": "a45a4ef3",
   "metadata": {},
   "outputs": [],
   "source": []
  },
  {
   "cell_type": "code",
   "execution_count": null,
   "id": "6028ef39",
   "metadata": {},
   "outputs": [],
   "source": []
  },
  {
   "cell_type": "code",
   "execution_count": null,
   "id": "7d66f8fa",
   "metadata": {},
   "outputs": [],
   "source": []
  },
  {
   "cell_type": "code",
   "execution_count": null,
   "id": "beed3201",
   "metadata": {},
   "outputs": [],
   "source": []
  },
  {
   "cell_type": "code",
   "execution_count": null,
   "id": "572d4833",
   "metadata": {},
   "outputs": [],
   "source": []
  },
  {
   "cell_type": "code",
   "execution_count": null,
   "id": "08deef4a",
   "metadata": {},
   "outputs": [],
   "source": []
  },
  {
   "cell_type": "code",
   "execution_count": null,
   "id": "88917d3b",
   "metadata": {},
   "outputs": [],
   "source": []
  },
  {
   "cell_type": "code",
   "execution_count": null,
   "id": "cf64db12",
   "metadata": {},
   "outputs": [],
   "source": []
  }
 ],
 "metadata": {
  "kernelspec": {
   "display_name": "Python 3 (ipykernel)",
   "language": "python",
   "name": "python3"
  },
  "language_info": {
   "codemirror_mode": {
    "name": "ipython",
    "version": 3
   },
   "file_extension": ".py",
   "mimetype": "text/x-python",
   "name": "python",
   "nbconvert_exporter": "python",
   "pygments_lexer": "ipython3",
   "version": "3.11.5"
  },
  "varInspector": {
   "cols": {
    "lenName": 16,
    "lenType": 16,
    "lenVar": 40
   },
   "kernels_config": {
    "python": {
     "delete_cmd_postfix": "",
     "delete_cmd_prefix": "del ",
     "library": "var_list.py",
     "varRefreshCmd": "print(var_dic_list())"
    },
    "r": {
     "delete_cmd_postfix": ") ",
     "delete_cmd_prefix": "rm(",
     "library": "var_list.r",
     "varRefreshCmd": "cat(var_dic_list()) "
    }
   },
   "types_to_exclude": [
    "module",
    "function",
    "builtin_function_or_method",
    "instance",
    "_Feature"
   ],
   "window_display": false
  }
 },
 "nbformat": 4,
 "nbformat_minor": 5
}
